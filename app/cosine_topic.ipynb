{
 "cells": [
  {
   "cell_type": "markdown",
   "id": "a4c1f247-43a3-4650-89c8-357933f2653f",
   "metadata": {},
   "source": [
    "## Statistical Bill Topic Prediction: an exploration\n",
    "\n",
    "This notebook runs through our current topic-keyword YAML contents, a set of hand-labeled bills, and establishes a cosine similarity threshold for bills to be automatically labeled without exact keyword matching."
   ]
  },
  {
   "cell_type": "code",
   "execution_count": 1,
   "id": "d1305d59-f99d-4b91-842f-53d622ab0328",
   "metadata": {},
   "outputs": [],
   "source": [
    "import pandas as pd\n",
    "from utils import general\n",
    "# Load data from Google Sheets\n",
    "source = \"https://docs.google.com/spreadsheets/d/1lMXUbSBtRPzzDspoGEklhEXuR2lz3LD8_zRW0FeXCGQ/edit?gid=0#gid=0\"\n",
    "source = source.replace(\"edit?\", \"export?format=csv&\")\n",
    "gold = pd.read_csv(source)\n",
    "\n",
    "# Select only desired columns\n",
    "cols = gold.columns.tolist()\n",
    "cols = [c for i, c in enumerate(cols) if i in [0, 2, 3]]\n",
    "gold = gold.loc[:, cols]\n",
    "gold = gold.rename(\n",
    "    columns = {\n",
    "        'BILL #': 'bill_number',\n",
    "        'TITLE': 'bill_name',\n",
    "        'CATEGORY': 'bill_topic'\n",
    "    }\n",
    ")\n",
    "gold.bill_topic = gold.bill_topic.str.replace(\"Collusion/Price Fixing\", \"Collusion, Price Fixing\")\n",
    "gold.loc[gold.bill_topic.isna(), 'bill_topic'] = [\"Other\"]\n",
    "gold.bill_topic = gold.bill_topic.apply(lambda x: [x])\n",
    "gold.bill_topic = gold.bill_topic.apply(lambda x: x + [\"AI\"] if x != [\"Other\"] else x) # Every bill on the sheet is AI bill"
   ]
  },
  {
   "cell_type": "code",
   "execution_count": null,
   "id": "bf3cdf72-364e-47c9-8f4d-6b4a760c13e8",
   "metadata": {},
   "outputs": [],
   "source": []
  },
  {
   "cell_type": "code",
   "execution_count": 2,
   "id": "799913c2-c35b-4eba-8013-cb0b1dd839ac",
   "metadata": {},
   "outputs": [
    {
     "name": "stderr",
     "output_type": "stream",
     "text": [
      "2025-07-17 13:47:50.212 WARNING streamlit.runtime.caching.cache_data_api: No runtime found, using MemoryCacheStorageManager\n",
      "2025-07-17 13:47:50.213 WARNING streamlit.runtime.scriptrunner_utils.script_run_context: Thread 'MainThread': missing ScriptRunContext! This warning can be ignored when running in bare mode.\n",
      "2025-07-17 13:47:50.340 \n",
      "  \u001b[33m\u001b[1mWarning:\u001b[0m to view this Streamlit app on a browser, run it with the following\n",
      "  command:\n",
      "\n",
      "    streamlit run /Users/jessicawang/.pyenv/versions/3.10.0/lib/python3.10/site-packages/ipykernel_launcher.py [ARGUMENTS]\n",
      "2025-07-17 13:47:50.340 Thread 'MainThread': missing ScriptRunContext! This warning can be ignored when running in bare mode.\n",
      "2025-07-17 13:47:50.341 Thread 'MainThread': missing ScriptRunContext! This warning can be ignored when running in bare mode.\n",
      "2025-07-17 13:47:50.341 No runtime found, using MemoryCacheStorageManager\n"
     ]
    },
    {
     "name": "stdout",
     "output_type": "stream",
     "text": [
      "Connected to the PostgreSQL database.\n"
     ]
    },
    {
     "name": "stderr",
     "output_type": "stream",
     "text": [
      "2025-07-17 13:47:50.845 Thread 'Thread-5': missing ScriptRunContext! This warning can be ignored when running in bare mode.\n",
      "2025-07-17 13:47:50.850 Thread 'Thread-5': missing ScriptRunContext! This warning can be ignored when running in bare mode.\n",
      "2025-07-17 13:47:52.085 Thread 'MainThread': missing ScriptRunContext! This warning can be ignored when running in bare mode.\n",
      "2025-07-17 13:47:52.085 Thread 'MainThread': missing ScriptRunContext! This warning can be ignored when running in bare mode.\n"
     ]
    },
    {
     "name": "stdout",
     "output_type": "stream",
     "text": [
      "Database connection closed.\n"
     ]
    }
   ],
   "source": [
    "# Load live data for bill excerpts\n",
    "from db.query import get_data\n",
    "\n",
    "bills = get_data()\n",
    "\n",
    "# Merge on bill number and drop columns to get relevant data points\n",
    "df = pd.merge(gold, bills, on=\"bill_number\", how=\"left\")\n",
    "df = df.drop(\n",
    "    [\n",
    "        'last_updated_on', \n",
    "        'event_text', \n",
    "        'bill_history', \n",
    "        'leginfo_link', \n",
    "        'status', \n",
    "        'leg_session', \n",
    "        'date_introduced', \n",
    "        'author', \n",
    "        'coauthors',\n",
    "        'bill_event',\n",
    "        'chamber',\n",
    "        'openstates_bill_id'\n",
    "    ],\n",
    "    axis=1\n",
    "    )"
   ]
  },
  {
   "cell_type": "code",
   "execution_count": 3,
   "id": "3b373b74-6939-4697-a90b-a0b56783d2f7",
   "metadata": {},
   "outputs": [],
   "source": [
    "from sentence_transformers import SentenceTransformer\n",
    "import numpy as np\n",
    "from sklearn.metrics.pairwise import cosine_similarity\n",
    "from sklearn.preprocessing import MultiLabelBinarizer\n",
    "from sklearn.metrics import hamming_loss, classification_report, confusion_matrix\n",
    "from nltk.corpus import stopwords\n",
    "import re"
   ]
  },
  {
   "cell_type": "code",
   "execution_count": 4,
   "id": "29398fac-2aea-4905-98a6-a5fa15afaeb0",
   "metadata": {},
   "outputs": [],
   "source": [
    "# Define a function to remove stopwords from text\n",
    "\n",
    "def preprocess_text(text):\n",
    "    stop_words = set(stopwords.words('english'))\n",
    "    words = re.findall(r'\\b\\w+\\b', text.lower())  # Tokenize\n",
    "    return ' '.join([w for w in words if w not in stop_words])"
   ]
  },
  {
   "cell_type": "code",
   "execution_count": 5,
   "id": "1dc6d1f9-20de-41a9-be72-dd2f11cdf521",
   "metadata": {},
   "outputs": [],
   "source": [
    "# A pretrained model finetuned on the US Code\n",
    "legal_model = SentenceTransformer(\"ArchitRastogi/BGE-Small-LegalEmbeddings-USCode\")\n",
    "# A pretrained model finetuned on 1B tokens from the internet\n",
    "mini_model = SentenceTransformer('all-MiniLM-L6-v2')"
   ]
  },
  {
   "cell_type": "code",
   "execution_count": 6,
   "id": "e0ae2de3-80ab-4443-9445-3683ed1cfe45",
   "metadata": {},
   "outputs": [],
   "source": [
    "# Create topic embeddings\n",
    "legal_embeddings = {}\n",
    "mini_embeddings = {}\n",
    "for topic, data in general.topic_config.items():\n",
    "    # Take the centroid of the topic itself and its keywords\n",
    "    contents = data[\"keywords\"] + [topic]\n",
    "    legal_embeddings[topic] = np.mean(legal_model.encode(contents), axis=0)\n",
    "    mini_embeddings[topic] = np.mean(mini_model.encode(contents), axis=0)"
   ]
  },
  {
   "cell_type": "code",
   "execution_count": 7,
   "id": "b17d3fe0-ece4-4bb0-9d67-0c9da2f544e7",
   "metadata": {},
   "outputs": [],
   "source": [
    "# Use a weighted combination of bill title and abstract to embed the text for cosine similarity\n",
    "\n",
    "def get_weighted_embedding(model, row, title_weight=0.7):\n",
    "    title = str(row[\"bill_name_y\"]) # Original bill name, make sure to cast as a string\n",
    "    abstract = str(row[\"bill_text\"]) # Bill text, recast as a string \n",
    "    title_embed = model.encode(preprocess_text(title))\n",
    "    abstract_embed = model.encode(preprocess_text(abstract))\n",
    "    return (title_weight * title_embed) + ((1 - title_weight) * abstract_embed)"
   ]
  },
  {
   "cell_type": "code",
   "execution_count": 8,
   "id": "93aa35b2-03f0-4924-98b4-86c3ad0b1039",
   "metadata": {},
   "outputs": [],
   "source": [
    "# Given a pre-computed embedding and label embeddings, add any label if similarity exceeds the threshold\n",
    "def predict_topics(text_embedding, label_embeddings, threshold=0.3):\n",
    "    predictions = {}\n",
    "    for label, embedding in label_embeddings.items():\n",
    "        similarity = cosine_similarity([text_embedding], [embedding])[0][0]\n",
    "        predictions[label] = similarity > threshold\n",
    "    predictions[\"Other\"] = (not any(predictions.values()))\n",
    "    return predictions"
   ]
  },
  {
   "cell_type": "code",
   "execution_count": 9,
   "id": "6e7090ae-2475-4c29-b579-7e23999a46bf",
   "metadata": {},
   "outputs": [],
   "source": [
    "from collections import defaultdict\n",
    "# Initialize storage\n",
    "results = []\n",
    "best_config = {\n",
    "    'model': None,\n",
    "    'weight': None,\n",
    "    'threshold': None,\n",
    "    'macro_f1': -1,\n",
    "    'hamming_loss': 1\n",
    "}\n",
    "\n",
    "# Single threshold search space\n",
    "threshold_range = np.linspace(0.1, 0.5, 10)  # Test 10 values between 0.1 and 0.5\n",
    "\n",
    "# Map from model names to actual objects and topic embeddings\n",
    "model_topics = {\n",
    "    \"mini\": (mini_model, mini_embeddings),\n",
    "    \"legal\": (legal_model, legal_embeddings)\n",
    "}"
   ]
  },
  {
   "cell_type": "code",
   "execution_count": 10,
   "id": "1a0b612a-af48-4443-b211-42f089ee711d",
   "metadata": {},
   "outputs": [
    {
     "name": "stdout",
     "output_type": "stream",
     "text": [
      "\n",
      "==================================================\n",
      "OPTIMAL CONFIGURATION\n",
      "==================================================\n",
      "Model: mini\n",
      "Title Weight: 0.7\n",
      "Global Threshold: 0.278\n",
      "Macro-F1: 0.402\n",
      "Hamming Loss: 0.145\n",
      "\n",
      "Top Configurations:\n",
      "Model: mini, Weight: 0.7, Threshold: 0.28 | Macro-F1: 0.402, Hamming Loss: 0.145\n",
      "Model: mini, Weight: 0.5, Threshold: 0.28 | Macro-F1: 0.394, Hamming Loss: 0.152\n",
      "Model: mini, Weight: 0.6, Threshold: 0.28 | Macro-F1: 0.385, Hamming Loss: 0.152\n",
      "Model: mini, Weight: 0.8, Threshold: 0.28 | Macro-F1: 0.384, Hamming Loss: 0.141\n",
      "Model: mini, Weight: 0.4, Threshold: 0.23 | Macro-F1: 0.379, Hamming Loss: 0.191\n"
     ]
    }
   ],
   "source": [
    "for m in model_topics:\n",
    "    curr_model, curr_embeddings = model_topics[m]\n",
    "    \n",
    "    for w in range(11):\n",
    "        weight = w * 0.1\n",
    "        \n",
    "        # Generate weighted embeddings (once per weight)\n",
    "        embed_col = f\"{m}_embedding_{w}\"\n",
    "        df[embed_col] = df.apply(\n",
    "            lambda x: get_weighted_embedding(curr_model, x, title_weight=weight),\n",
    "            axis=1\n",
    "        )\n",
    "\n",
    "        for threshold in threshold_range:\n",
    "            # Predict with current global threshold\n",
    "            df['temp_pred'] = df[embed_col].apply(\n",
    "                lambda x: [\n",
    "                    t for t, predicted in predict_topics(\n",
    "                        x, \n",
    "                        label_embeddings=curr_embeddings,\n",
    "                        threshold=threshold  \n",
    "                    ).items() if predicted\n",
    "                ]\n",
    "            )\n",
    "\n",
    "            # Evaluate\n",
    "            mlb = MultiLabelBinarizer(classes=sorted(curr_embeddings.keys()) + [\"Other\"])\n",
    "            y_true = mlb.fit_transform(df[\"bill_topic\"])\n",
    "            y_pred = mlb.transform(df['temp_pred'])\n",
    "\n",
    "            # Filter y_true, y_pred for only classes that are actually used in the data\n",
    "            active_labels = np.where((y_true.sum(axis=0) > 0) | (y_pred.sum(axis=0) > 0))[0]\n",
    "            y_true_active = y_true[:, active_labels]\n",
    "            y_pred_active = y_pred[:, active_labels]\n",
    "\n",
    "            # Calculate precision, recall, F1\n",
    "            report = classification_report(\n",
    "                y_true_active, y_pred_active,\n",
    "                output_dict=True,\n",
    "                zero_division=0\n",
    "            )\n",
    "\n",
    "            # Calculate Hamming loss as an overall measure across incorrect labels\n",
    "            h_loss = hamming_loss(y_true_active, y_pred_active)\n",
    "            macro_f1 = report['macro avg']['f1-score']\n",
    "            \n",
    "            # Track all results for analysis\n",
    "            results.append({\n",
    "                'model': m,\n",
    "                'weight': weight,\n",
    "                'threshold': threshold,\n",
    "                'macro_f1': macro_f1,\n",
    "                'hamming_loss': h_loss\n",
    "            })\n",
    "            \n",
    "            # Update best config\n",
    "            if (macro_f1 > best_config['macro_f1']) or \\\n",
    "               (macro_f1 == best_config['macro_f1'] and h_loss < best_config['hamming_loss']):\n",
    "                best_config.update({\n",
    "                    'model': m,\n",
    "                    'weight': weight,\n",
    "                    'threshold': threshold,\n",
    "                    'macro_f1': macro_f1,\n",
    "                    'hamming_loss': h_loss,\n",
    "                    'report': report\n",
    "            })\n",
    "\n",
    "            # Remove temporary prediction column\n",
    "            df = df.drop(['temp_pred'], axis=1)\n",
    "                \n",
    "# Print best configuration\n",
    "print(f\"\\n{'='*50}\\nOPTIMAL CONFIGURATION\\n{'='*50}\")\n",
    "print(f\"Model: {best_config['model']}\")\n",
    "print(f\"Title Weight: {best_config['weight']:.1f}\")\n",
    "print(f\"Global Threshold: {best_config['threshold']:.3f}\")\n",
    "print(f\"Macro-F1: {best_config['macro_f1']:.3f}\")\n",
    "print(f\"Hamming Loss: {best_config['hamming_loss']:.3f}\\n\")\n",
    "\n",
    "# Show top 5 configurations\n",
    "print(\"Top Configurations:\")\n",
    "top_results = sorted(results, key=lambda x: (-x['macro_f1'], x['hamming_loss']))[:5]\n",
    "for r in top_results:\n",
    "    print(f\"Model: {r['model']}, Weight: {r['weight']:.1f}, Threshold: {r['threshold']:.2f} | \"\n",
    "          f\"Macro-F1: {r['macro_f1']:.3f}, Hamming Loss: {r['hamming_loss']:.3f}\")"
   ]
  },
  {
   "cell_type": "code",
   "execution_count": 12,
   "id": "8c59d07c-c9d5-4f55-bedb-f059dda1a059",
   "metadata": {},
   "outputs": [],
   "source": [
    "import plotly.express as px\n",
    "# import pandas as pd\n",
    "\n",
    "# Convert results to DataFrame for Plotly\n",
    "results_df = pd.DataFrame(results)\n",
    "\n",
    "# Filter for best model+weight combo (or pick one manually)\n",
    "best_combo_df = results_df[\n",
    "    (results_df['model'] == best_config['model']) & \n",
    "    (results_df['weight'] == best_config['weight'])\n",
    "]"
   ]
  },
  {
   "cell_type": "code",
   "execution_count": 25,
   "id": "3077a042-6bd0-486d-bca8-f3664532b280",
   "metadata": {},
   "outputs": [],
   "source": [
    "import plotly.graph_objects as go\n",
    "from plotly.subplots import make_subplots"
   ]
  },
  {
   "cell_type": "code",
   "execution_count": 26,
   "id": "ff21c848-0228-42ec-b081-abedbea36529",
   "metadata": {},
   "outputs": [
    {
     "data": {
      "application/vnd.plotly.v1+json": {
       "config": {
        "plotlyServerURL": "https://plot.ly"
       },
       "data": [
        {
         "hovertemplate": "Cosine Similarity Threshold=%{x}<br>Macro-F1 Score=%{y}<extra></extra>",
         "legendgroup": "",
         "line": {
          "color": "#636efa",
          "dash": "solid"
         },
         "marker": {
          "symbol": "circle"
         },
         "mode": "lines",
         "name": "",
         "orientation": "v",
         "showlegend": false,
         "type": "scatter",
         "x": {
          "bdata": "mpmZmZmZuT/TJ33SJ33CP9iCLdiCLcg/3t3d3d3dzT9yHMdxHMfRP/VJn/RJn9Q/eHd3d3d31z/6pE/6pE/aP37SJ33SJ90/AAAAAAAA4D8=",
          "dtype": "f8"
         },
         "xaxis": "x",
         "y": {
          "bdata": "Vkdfw89/yz/YiBJW4mHQP4IE5x1W+dI/RfBVB4r81T+spadsR7zZPy4aglDGvtc/IT6KXisE1j+Bb15NPCvOP3X3uqE+s8c/HzM93Q6BvD8=",
          "dtype": "f8"
         },
         "yaxis": "y"
        }
       ],
       "layout": {
        "annotations": [
         {
          "showarrow": false,
          "text": "Optimal: 0.28",
          "x": 0.2777777777777778,
          "xanchor": "left",
          "xref": "x",
          "y": 1,
          "yanchor": "top",
          "yref": "y domain"
         }
        ],
        "legend": {
         "tracegroupgap": 0
        },
        "shapes": [
         {
          "line": {
           "color": "red",
           "dash": "dash"
          },
          "type": "line",
          "x0": 0.2777777777777778,
          "x1": 0.2777777777777778,
          "xref": "x",
          "y0": 0,
          "y1": 1,
          "yref": "y domain"
         }
        ],
        "template": {
         "data": {
          "bar": [
           {
            "error_x": {
             "color": "#2a3f5f"
            },
            "error_y": {
             "color": "#2a3f5f"
            },
            "marker": {
             "line": {
              "color": "white",
              "width": 0.5
             },
             "pattern": {
              "fillmode": "overlay",
              "size": 10,
              "solidity": 0.2
             }
            },
            "type": "bar"
           }
          ],
          "barpolar": [
           {
            "marker": {
             "line": {
              "color": "white",
              "width": 0.5
             },
             "pattern": {
              "fillmode": "overlay",
              "size": 10,
              "solidity": 0.2
             }
            },
            "type": "barpolar"
           }
          ],
          "carpet": [
           {
            "aaxis": {
             "endlinecolor": "#2a3f5f",
             "gridcolor": "#C8D4E3",
             "linecolor": "#C8D4E3",
             "minorgridcolor": "#C8D4E3",
             "startlinecolor": "#2a3f5f"
            },
            "baxis": {
             "endlinecolor": "#2a3f5f",
             "gridcolor": "#C8D4E3",
             "linecolor": "#C8D4E3",
             "minorgridcolor": "#C8D4E3",
             "startlinecolor": "#2a3f5f"
            },
            "type": "carpet"
           }
          ],
          "choropleth": [
           {
            "colorbar": {
             "outlinewidth": 0,
             "ticks": ""
            },
            "type": "choropleth"
           }
          ],
          "contour": [
           {
            "colorbar": {
             "outlinewidth": 0,
             "ticks": ""
            },
            "colorscale": [
             [
              0,
              "#0d0887"
             ],
             [
              0.1111111111111111,
              "#46039f"
             ],
             [
              0.2222222222222222,
              "#7201a8"
             ],
             [
              0.3333333333333333,
              "#9c179e"
             ],
             [
              0.4444444444444444,
              "#bd3786"
             ],
             [
              0.5555555555555556,
              "#d8576b"
             ],
             [
              0.6666666666666666,
              "#ed7953"
             ],
             [
              0.7777777777777778,
              "#fb9f3a"
             ],
             [
              0.8888888888888888,
              "#fdca26"
             ],
             [
              1,
              "#f0f921"
             ]
            ],
            "type": "contour"
           }
          ],
          "contourcarpet": [
           {
            "colorbar": {
             "outlinewidth": 0,
             "ticks": ""
            },
            "type": "contourcarpet"
           }
          ],
          "heatmap": [
           {
            "colorbar": {
             "outlinewidth": 0,
             "ticks": ""
            },
            "colorscale": [
             [
              0,
              "#0d0887"
             ],
             [
              0.1111111111111111,
              "#46039f"
             ],
             [
              0.2222222222222222,
              "#7201a8"
             ],
             [
              0.3333333333333333,
              "#9c179e"
             ],
             [
              0.4444444444444444,
              "#bd3786"
             ],
             [
              0.5555555555555556,
              "#d8576b"
             ],
             [
              0.6666666666666666,
              "#ed7953"
             ],
             [
              0.7777777777777778,
              "#fb9f3a"
             ],
             [
              0.8888888888888888,
              "#fdca26"
             ],
             [
              1,
              "#f0f921"
             ]
            ],
            "type": "heatmap"
           }
          ],
          "histogram": [
           {
            "marker": {
             "pattern": {
              "fillmode": "overlay",
              "size": 10,
              "solidity": 0.2
             }
            },
            "type": "histogram"
           }
          ],
          "histogram2d": [
           {
            "colorbar": {
             "outlinewidth": 0,
             "ticks": ""
            },
            "colorscale": [
             [
              0,
              "#0d0887"
             ],
             [
              0.1111111111111111,
              "#46039f"
             ],
             [
              0.2222222222222222,
              "#7201a8"
             ],
             [
              0.3333333333333333,
              "#9c179e"
             ],
             [
              0.4444444444444444,
              "#bd3786"
             ],
             [
              0.5555555555555556,
              "#d8576b"
             ],
             [
              0.6666666666666666,
              "#ed7953"
             ],
             [
              0.7777777777777778,
              "#fb9f3a"
             ],
             [
              0.8888888888888888,
              "#fdca26"
             ],
             [
              1,
              "#f0f921"
             ]
            ],
            "type": "histogram2d"
           }
          ],
          "histogram2dcontour": [
           {
            "colorbar": {
             "outlinewidth": 0,
             "ticks": ""
            },
            "colorscale": [
             [
              0,
              "#0d0887"
             ],
             [
              0.1111111111111111,
              "#46039f"
             ],
             [
              0.2222222222222222,
              "#7201a8"
             ],
             [
              0.3333333333333333,
              "#9c179e"
             ],
             [
              0.4444444444444444,
              "#bd3786"
             ],
             [
              0.5555555555555556,
              "#d8576b"
             ],
             [
              0.6666666666666666,
              "#ed7953"
             ],
             [
              0.7777777777777778,
              "#fb9f3a"
             ],
             [
              0.8888888888888888,
              "#fdca26"
             ],
             [
              1,
              "#f0f921"
             ]
            ],
            "type": "histogram2dcontour"
           }
          ],
          "mesh3d": [
           {
            "colorbar": {
             "outlinewidth": 0,
             "ticks": ""
            },
            "type": "mesh3d"
           }
          ],
          "parcoords": [
           {
            "line": {
             "colorbar": {
              "outlinewidth": 0,
              "ticks": ""
             }
            },
            "type": "parcoords"
           }
          ],
          "pie": [
           {
            "automargin": true,
            "type": "pie"
           }
          ],
          "scatter": [
           {
            "fillpattern": {
             "fillmode": "overlay",
             "size": 10,
             "solidity": 0.2
            },
            "type": "scatter"
           }
          ],
          "scatter3d": [
           {
            "line": {
             "colorbar": {
              "outlinewidth": 0,
              "ticks": ""
             }
            },
            "marker": {
             "colorbar": {
              "outlinewidth": 0,
              "ticks": ""
             }
            },
            "type": "scatter3d"
           }
          ],
          "scattercarpet": [
           {
            "marker": {
             "colorbar": {
              "outlinewidth": 0,
              "ticks": ""
             }
            },
            "type": "scattercarpet"
           }
          ],
          "scattergeo": [
           {
            "marker": {
             "colorbar": {
              "outlinewidth": 0,
              "ticks": ""
             }
            },
            "type": "scattergeo"
           }
          ],
          "scattergl": [
           {
            "marker": {
             "colorbar": {
              "outlinewidth": 0,
              "ticks": ""
             }
            },
            "type": "scattergl"
           }
          ],
          "scattermap": [
           {
            "marker": {
             "colorbar": {
              "outlinewidth": 0,
              "ticks": ""
             }
            },
            "type": "scattermap"
           }
          ],
          "scattermapbox": [
           {
            "marker": {
             "colorbar": {
              "outlinewidth": 0,
              "ticks": ""
             }
            },
            "type": "scattermapbox"
           }
          ],
          "scatterpolar": [
           {
            "marker": {
             "colorbar": {
              "outlinewidth": 0,
              "ticks": ""
             }
            },
            "type": "scatterpolar"
           }
          ],
          "scatterpolargl": [
           {
            "marker": {
             "colorbar": {
              "outlinewidth": 0,
              "ticks": ""
             }
            },
            "type": "scatterpolargl"
           }
          ],
          "scatterternary": [
           {
            "marker": {
             "colorbar": {
              "outlinewidth": 0,
              "ticks": ""
             }
            },
            "type": "scatterternary"
           }
          ],
          "surface": [
           {
            "colorbar": {
             "outlinewidth": 0,
             "ticks": ""
            },
            "colorscale": [
             [
              0,
              "#0d0887"
             ],
             [
              0.1111111111111111,
              "#46039f"
             ],
             [
              0.2222222222222222,
              "#7201a8"
             ],
             [
              0.3333333333333333,
              "#9c179e"
             ],
             [
              0.4444444444444444,
              "#bd3786"
             ],
             [
              0.5555555555555556,
              "#d8576b"
             ],
             [
              0.6666666666666666,
              "#ed7953"
             ],
             [
              0.7777777777777778,
              "#fb9f3a"
             ],
             [
              0.8888888888888888,
              "#fdca26"
             ],
             [
              1,
              "#f0f921"
             ]
            ],
            "type": "surface"
           }
          ],
          "table": [
           {
            "cells": {
             "fill": {
              "color": "#EBF0F8"
             },
             "line": {
              "color": "white"
             }
            },
            "header": {
             "fill": {
              "color": "#C8D4E3"
             },
             "line": {
              "color": "white"
             }
            },
            "type": "table"
           }
          ]
         },
         "layout": {
          "annotationdefaults": {
           "arrowcolor": "#2a3f5f",
           "arrowhead": 0,
           "arrowwidth": 1
          },
          "autotypenumbers": "strict",
          "coloraxis": {
           "colorbar": {
            "outlinewidth": 0,
            "ticks": ""
           }
          },
          "colorscale": {
           "diverging": [
            [
             0,
             "#8e0152"
            ],
            [
             0.1,
             "#c51b7d"
            ],
            [
             0.2,
             "#de77ae"
            ],
            [
             0.3,
             "#f1b6da"
            ],
            [
             0.4,
             "#fde0ef"
            ],
            [
             0.5,
             "#f7f7f7"
            ],
            [
             0.6,
             "#e6f5d0"
            ],
            [
             0.7,
             "#b8e186"
            ],
            [
             0.8,
             "#7fbc41"
            ],
            [
             0.9,
             "#4d9221"
            ],
            [
             1,
             "#276419"
            ]
           ],
           "sequential": [
            [
             0,
             "#0d0887"
            ],
            [
             0.1111111111111111,
             "#46039f"
            ],
            [
             0.2222222222222222,
             "#7201a8"
            ],
            [
             0.3333333333333333,
             "#9c179e"
            ],
            [
             0.4444444444444444,
             "#bd3786"
            ],
            [
             0.5555555555555556,
             "#d8576b"
            ],
            [
             0.6666666666666666,
             "#ed7953"
            ],
            [
             0.7777777777777778,
             "#fb9f3a"
            ],
            [
             0.8888888888888888,
             "#fdca26"
            ],
            [
             1,
             "#f0f921"
            ]
           ],
           "sequentialminus": [
            [
             0,
             "#0d0887"
            ],
            [
             0.1111111111111111,
             "#46039f"
            ],
            [
             0.2222222222222222,
             "#7201a8"
            ],
            [
             0.3333333333333333,
             "#9c179e"
            ],
            [
             0.4444444444444444,
             "#bd3786"
            ],
            [
             0.5555555555555556,
             "#d8576b"
            ],
            [
             0.6666666666666666,
             "#ed7953"
            ],
            [
             0.7777777777777778,
             "#fb9f3a"
            ],
            [
             0.8888888888888888,
             "#fdca26"
            ],
            [
             1,
             "#f0f921"
            ]
           ]
          },
          "colorway": [
           "#636efa",
           "#EF553B",
           "#00cc96",
           "#ab63fa",
           "#FFA15A",
           "#19d3f3",
           "#FF6692",
           "#B6E880",
           "#FF97FF",
           "#FECB52"
          ],
          "font": {
           "color": "#2a3f5f"
          },
          "geo": {
           "bgcolor": "white",
           "lakecolor": "white",
           "landcolor": "white",
           "showlakes": true,
           "showland": true,
           "subunitcolor": "#C8D4E3"
          },
          "hoverlabel": {
           "align": "left"
          },
          "hovermode": "closest",
          "mapbox": {
           "style": "light"
          },
          "paper_bgcolor": "white",
          "plot_bgcolor": "white",
          "polar": {
           "angularaxis": {
            "gridcolor": "#EBF0F8",
            "linecolor": "#EBF0F8",
            "ticks": ""
           },
           "bgcolor": "white",
           "radialaxis": {
            "gridcolor": "#EBF0F8",
            "linecolor": "#EBF0F8",
            "ticks": ""
           }
          },
          "scene": {
           "xaxis": {
            "backgroundcolor": "white",
            "gridcolor": "#DFE8F3",
            "gridwidth": 2,
            "linecolor": "#EBF0F8",
            "showbackground": true,
            "ticks": "",
            "zerolinecolor": "#EBF0F8"
           },
           "yaxis": {
            "backgroundcolor": "white",
            "gridcolor": "#DFE8F3",
            "gridwidth": 2,
            "linecolor": "#EBF0F8",
            "showbackground": true,
            "ticks": "",
            "zerolinecolor": "#EBF0F8"
           },
           "zaxis": {
            "backgroundcolor": "white",
            "gridcolor": "#DFE8F3",
            "gridwidth": 2,
            "linecolor": "#EBF0F8",
            "showbackground": true,
            "ticks": "",
            "zerolinecolor": "#EBF0F8"
           }
          },
          "shapedefaults": {
           "line": {
            "color": "#2a3f5f"
           }
          },
          "ternary": {
           "aaxis": {
            "gridcolor": "#DFE8F3",
            "linecolor": "#A2B1C6",
            "ticks": ""
           },
           "baxis": {
            "gridcolor": "#DFE8F3",
            "linecolor": "#A2B1C6",
            "ticks": ""
           },
           "bgcolor": "white",
           "caxis": {
            "gridcolor": "#DFE8F3",
            "linecolor": "#A2B1C6",
            "ticks": ""
           }
          },
          "title": {
           "x": 0.05
          },
          "xaxis": {
           "automargin": true,
           "gridcolor": "#EBF0F8",
           "linecolor": "#EBF0F8",
           "ticks": "",
           "title": {
            "standoff": 15
           },
           "zerolinecolor": "#EBF0F8",
           "zerolinewidth": 2
          },
          "yaxis": {
           "automargin": true,
           "gridcolor": "#EBF0F8",
           "linecolor": "#EBF0F8",
           "ticks": "",
           "title": {
            "standoff": 15
           },
           "zerolinecolor": "#EBF0F8",
           "zerolinewidth": 2
          }
         }
        },
        "title": {
         "text": "Threshold vs. Macro-F1 (Model: mini, Weight: 0.7)"
        },
        "xaxis": {
         "anchor": "y",
         "domain": [
          0,
          1
         ],
         "title": {
          "text": "Cosine Similarity Threshold"
         }
        },
        "yaxis": {
         "anchor": "x",
         "domain": [
          0,
          1
         ],
         "title": {
          "text": "Macro-F1 Score"
         }
        }
       }
      },
      "image/png": "[encoded data removed]"
     },
     "metadata": {},
     "output_type": "display_data"
    }
   ],
   "source": [
    "# Create line plot for F1 score and cosine threshold\n",
    "fig = px.line(\n",
    "    best_combo_df,\n",
    "    x='threshold',\n",
    "    y='macro_f1',\n",
    "    title=f\"Threshold vs. Macro-F1 (Model: {best_config['model']}, Weight: {best_config['weight']:.1f})\",\n",
    "    labels={'threshold': 'Cosine Similarity Threshold', 'macro_f1': 'Macro-F1 Score'},\n",
    "    template='plotly_white'\n",
    ")\n",
    "\n",
    "# Add vertical line for optimal threshold\n",
    "fig.add_vline(\n",
    "    x=best_config['threshold'],\n",
    "    line_dash=\"dash\",\n",
    "    line_color=\"red\",\n",
    "    annotation_text=f\"Optimal: {best_config['threshold']:.2f}\",\n",
    "    annotation_position=\"top right\"\n",
    ")\n",
    "\n",
    "fig.show()"
   ]
  },
  {
   "cell_type": "code",
   "execution_count": 15,
   "id": "f3355076-ad15-442d-859a-1520827af17e",
   "metadata": {},
   "outputs": [
    {
     "data": {
      "application/vnd.plotly.v1+json": {
       "config": {
        "plotlyServerURL": "https://plot.ly"
       },
       "data": [
        {
         "hovertemplate": "Cosine Similarity Threshold=%{x}<br>Hamming Loss=%{y}<extra></extra>",
         "legendgroup": "",
         "line": {
          "color": "#636efa",
          "dash": "solid"
         },
         "marker": {
          "symbol": "circle"
         },
         "mode": "lines",
         "name": "",
         "orientation": "v",
         "showlegend": false,
         "type": "scatter",
         "x": {
          "bdata": "mpmZmZmZuT/TJ33SJ33CP9iCLdiCLcg/3t3d3d3dzT9yHMdxHMfRP/VJn/RJn9Q/eHd3d3d31z/6pE/6pE/aP37SJ33SJ90/AAAAAAAA4D8=",
          "dtype": "f8"
         },
         "xaxis": "x",
         "y": {
          "bdata": "2/l+arx04z8pXI/C9SjcP9v5fmq8dNM/nqh/I5TRyz8BuddcSJrCP82FpCkVZ78/ZIIH80T9uz9MN4lBYOXAPyZ4ME/Uv8E/VVVVVVVVxT8=",
          "dtype": "f8"
         },
         "yaxis": "y"
        }
       ],
       "layout": {
        "annotations": [
         {
          "showarrow": false,
          "text": "Optimal: 0.28",
          "x": 0.2777777777777778,
          "xanchor": "left",
          "xref": "x",
          "y": 1,
          "yanchor": "top",
          "yref": "y domain"
         }
        ],
        "legend": {
         "tracegroupgap": 0
        },
        "shapes": [
         {
          "line": {
           "color": "red",
           "dash": "dash"
          },
          "type": "line",
          "x0": 0.2777777777777778,
          "x1": 0.2777777777777778,
          "xref": "x",
          "y0": 0,
          "y1": 1,
          "yref": "y domain"
         }
        ],
        "template": {
         "data": {
          "bar": [
           {
            "error_x": {
             "color": "#2a3f5f"
            },
            "error_y": {
             "color": "#2a3f5f"
            },
            "marker": {
             "line": {
              "color": "white",
              "width": 0.5
             },
             "pattern": {
              "fillmode": "overlay",
              "size": 10,
              "solidity": 0.2
             }
            },
            "type": "bar"
           }
          ],
          "barpolar": [
           {
            "marker": {
             "line": {
              "color": "white",
              "width": 0.5
             },
             "pattern": {
              "fillmode": "overlay",
              "size": 10,
              "solidity": 0.2
             }
            },
            "type": "barpolar"
           }
          ],
          "carpet": [
           {
            "aaxis": {
             "endlinecolor": "#2a3f5f",
             "gridcolor": "#C8D4E3",
             "linecolor": "#C8D4E3",
             "minorgridcolor": "#C8D4E3",
             "startlinecolor": "#2a3f5f"
            },
            "baxis": {
             "endlinecolor": "#2a3f5f",
             "gridcolor": "#C8D4E3",
             "linecolor": "#C8D4E3",
             "minorgridcolor": "#C8D4E3",
             "startlinecolor": "#2a3f5f"
            },
            "type": "carpet"
           }
          ],
          "choropleth": [
           {
            "colorbar": {
             "outlinewidth": 0,
             "ticks": ""
            },
            "type": "choropleth"
           }
          ],
          "contour": [
           {
            "colorbar": {
             "outlinewidth": 0,
             "ticks": ""
            },
            "colorscale": [
             [
              0,
              "#0d0887"
             ],
             [
              0.1111111111111111,
              "#46039f"
             ],
             [
              0.2222222222222222,
              "#7201a8"
             ],
             [
              0.3333333333333333,
              "#9c179e"
             ],
             [
              0.4444444444444444,
              "#bd3786"
             ],
             [
              0.5555555555555556,
              "#d8576b"
             ],
             [
              0.6666666666666666,
              "#ed7953"
             ],
             [
              0.7777777777777778,
              "#fb9f3a"
             ],
             [
              0.8888888888888888,
              "#fdca26"
             ],
             [
              1,
              "#f0f921"
             ]
            ],
            "type": "contour"
           }
          ],
          "contourcarpet": [
           {
            "colorbar": {
             "outlinewidth": 0,
             "ticks": ""
            },
            "type": "contourcarpet"
           }
          ],
          "heatmap": [
           {
            "colorbar": {
             "outlinewidth": 0,
             "ticks": ""
            },
            "colorscale": [
             [
              0,
              "#0d0887"
             ],
             [
              0.1111111111111111,
              "#46039f"
             ],
             [
              0.2222222222222222,
              "#7201a8"
             ],
             [
              0.3333333333333333,
              "#9c179e"
             ],
             [
              0.4444444444444444,
              "#bd3786"
             ],
             [
              0.5555555555555556,
              "#d8576b"
             ],
             [
              0.6666666666666666,
              "#ed7953"
             ],
             [
              0.7777777777777778,
              "#fb9f3a"
             ],
             [
              0.8888888888888888,
              "#fdca26"
             ],
             [
              1,
              "#f0f921"
             ]
            ],
            "type": "heatmap"
           }
          ],
          "histogram": [
           {
            "marker": {
             "pattern": {
              "fillmode": "overlay",
              "size": 10,
              "solidity": 0.2
             }
            },
            "type": "histogram"
           }
          ],
          "histogram2d": [
           {
            "colorbar": {
             "outlinewidth": 0,
             "ticks": ""
            },
            "colorscale": [
             [
              0,
              "#0d0887"
             ],
             [
              0.1111111111111111,
              "#46039f"
             ],
             [
              0.2222222222222222,
              "#7201a8"
             ],
             [
              0.3333333333333333,
              "#9c179e"
             ],
             [
              0.4444444444444444,
              "#bd3786"
             ],
             [
              0.5555555555555556,
              "#d8576b"
             ],
             [
              0.6666666666666666,
              "#ed7953"
             ],
             [
              0.7777777777777778,
              "#fb9f3a"
             ],
             [
              0.8888888888888888,
              "#fdca26"
             ],
             [
              1,
              "#f0f921"
             ]
            ],
            "type": "histogram2d"
           }
          ],
          "histogram2dcontour": [
           {
            "colorbar": {
             "outlinewidth": 0,
             "ticks": ""
            },
            "colorscale": [
             [
              0,
              "#0d0887"
             ],
             [
              0.1111111111111111,
              "#46039f"
             ],
             [
              0.2222222222222222,
              "#7201a8"
             ],
             [
              0.3333333333333333,
              "#9c179e"
             ],
             [
              0.4444444444444444,
              "#bd3786"
             ],
             [
              0.5555555555555556,
              "#d8576b"
             ],
             [
              0.6666666666666666,
              "#ed7953"
             ],
             [
              0.7777777777777778,
              "#fb9f3a"
             ],
             [
              0.8888888888888888,
              "#fdca26"
             ],
             [
              1,
              "#f0f921"
             ]
            ],
            "type": "histogram2dcontour"
           }
          ],
          "mesh3d": [
           {
            "colorbar": {
             "outlinewidth": 0,
             "ticks": ""
            },
            "type": "mesh3d"
           }
          ],
          "parcoords": [
           {
            "line": {
             "colorbar": {
              "outlinewidth": 0,
              "ticks": ""
             }
            },
            "type": "parcoords"
           }
          ],
          "pie": [
           {
            "automargin": true,
            "type": "pie"
           }
          ],
          "scatter": [
           {
            "fillpattern": {
             "fillmode": "overlay",
             "size": 10,
             "solidity": 0.2
            },
            "type": "scatter"
           }
          ],
          "scatter3d": [
           {
            "line": {
             "colorbar": {
              "outlinewidth": 0,
              "ticks": ""
             }
            },
            "marker": {
             "colorbar": {
              "outlinewidth": 0,
              "ticks": ""
             }
            },
            "type": "scatter3d"
           }
          ],
          "scattercarpet": [
           {
            "marker": {
             "colorbar": {
              "outlinewidth": 0,
              "ticks": ""
             }
            },
            "type": "scattercarpet"
           }
          ],
          "scattergeo": [
           {
            "marker": {
             "colorbar": {
              "outlinewidth": 0,
              "ticks": ""
             }
            },
            "type": "scattergeo"
           }
          ],
          "scattergl": [
           {
            "marker": {
             "colorbar": {
              "outlinewidth": 0,
              "ticks": ""
             }
            },
            "type": "scattergl"
           }
          ],
          "scattermap": [
           {
            "marker": {
             "colorbar": {
              "outlinewidth": 0,
              "ticks": ""
             }
            },
            "type": "scattermap"
           }
          ],
          "scattermapbox": [
           {
            "marker": {
             "colorbar": {
              "outlinewidth": 0,
              "ticks": ""
             }
            },
            "type": "scattermapbox"
           }
          ],
          "scatterpolar": [
           {
            "marker": {
             "colorbar": {
              "outlinewidth": 0,
              "ticks": ""
             }
            },
            "type": "scatterpolar"
           }
          ],
          "scatterpolargl": [
           {
            "marker": {
             "colorbar": {
              "outlinewidth": 0,
              "ticks": ""
             }
            },
            "type": "scatterpolargl"
           }
          ],
          "scatterternary": [
           {
            "marker": {
             "colorbar": {
              "outlinewidth": 0,
              "ticks": ""
             }
            },
            "type": "scatterternary"
           }
          ],
          "surface": [
           {
            "colorbar": {
             "outlinewidth": 0,
             "ticks": ""
            },
            "colorscale": [
             [
              0,
              "#0d0887"
             ],
             [
              0.1111111111111111,
              "#46039f"
             ],
             [
              0.2222222222222222,
              "#7201a8"
             ],
             [
              0.3333333333333333,
              "#9c179e"
             ],
             [
              0.4444444444444444,
              "#bd3786"
             ],
             [
              0.5555555555555556,
              "#d8576b"
             ],
             [
              0.6666666666666666,
              "#ed7953"
             ],
             [
              0.7777777777777778,
              "#fb9f3a"
             ],
             [
              0.8888888888888888,
              "#fdca26"
             ],
             [
              1,
              "#f0f921"
             ]
            ],
            "type": "surface"
           }
          ],
          "table": [
           {
            "cells": {
             "fill": {
              "color": "#EBF0F8"
             },
             "line": {
              "color": "white"
             }
            },
            "header": {
             "fill": {
              "color": "#C8D4E3"
             },
             "line": {
              "color": "white"
             }
            },
            "type": "table"
           }
          ]
         },
         "layout": {
          "annotationdefaults": {
           "arrowcolor": "#2a3f5f",
           "arrowhead": 0,
           "arrowwidth": 1
          },
          "autotypenumbers": "strict",
          "coloraxis": {
           "colorbar": {
            "outlinewidth": 0,
            "ticks": ""
           }
          },
          "colorscale": {
           "diverging": [
            [
             0,
             "#8e0152"
            ],
            [
             0.1,
             "#c51b7d"
            ],
            [
             0.2,
             "#de77ae"
            ],
            [
             0.3,
             "#f1b6da"
            ],
            [
             0.4,
             "#fde0ef"
            ],
            [
             0.5,
             "#f7f7f7"
            ],
            [
             0.6,
             "#e6f5d0"
            ],
            [
             0.7,
             "#b8e186"
            ],
            [
             0.8,
             "#7fbc41"
            ],
            [
             0.9,
             "#4d9221"
            ],
            [
             1,
             "#276419"
            ]
           ],
           "sequential": [
            [
             0,
             "#0d0887"
            ],
            [
             0.1111111111111111,
             "#46039f"
            ],
            [
             0.2222222222222222,
             "#7201a8"
            ],
            [
             0.3333333333333333,
             "#9c179e"
            ],
            [
             0.4444444444444444,
             "#bd3786"
            ],
            [
             0.5555555555555556,
             "#d8576b"
            ],
            [
             0.6666666666666666,
             "#ed7953"
            ],
            [
             0.7777777777777778,
             "#fb9f3a"
            ],
            [
             0.8888888888888888,
             "#fdca26"
            ],
            [
             1,
             "#f0f921"
            ]
           ],
           "sequentialminus": [
            [
             0,
             "#0d0887"
            ],
            [
             0.1111111111111111,
             "#46039f"
            ],
            [
             0.2222222222222222,
             "#7201a8"
            ],
            [
             0.3333333333333333,
             "#9c179e"
            ],
            [
             0.4444444444444444,
             "#bd3786"
            ],
            [
             0.5555555555555556,
             "#d8576b"
            ],
            [
             0.6666666666666666,
             "#ed7953"
            ],
            [
             0.7777777777777778,
             "#fb9f3a"
            ],
            [
             0.8888888888888888,
             "#fdca26"
            ],
            [
             1,
             "#f0f921"
            ]
           ]
          },
          "colorway": [
           "#636efa",
           "#EF553B",
           "#00cc96",
           "#ab63fa",
           "#FFA15A",
           "#19d3f3",
           "#FF6692",
           "#B6E880",
           "#FF97FF",
           "#FECB52"
          ],
          "font": {
           "color": "#2a3f5f"
          },
          "geo": {
           "bgcolor": "white",
           "lakecolor": "white",
           "landcolor": "white",
           "showlakes": true,
           "showland": true,
           "subunitcolor": "#C8D4E3"
          },
          "hoverlabel": {
           "align": "left"
          },
          "hovermode": "closest",
          "mapbox": {
           "style": "light"
          },
          "paper_bgcolor": "white",
          "plot_bgcolor": "white",
          "polar": {
           "angularaxis": {
            "gridcolor": "#EBF0F8",
            "linecolor": "#EBF0F8",
            "ticks": ""
           },
           "bgcolor": "white",
           "radialaxis": {
            "gridcolor": "#EBF0F8",
            "linecolor": "#EBF0F8",
            "ticks": ""
           }
          },
          "scene": {
           "xaxis": {
            "backgroundcolor": "white",
            "gridcolor": "#DFE8F3",
            "gridwidth": 2,
            "linecolor": "#EBF0F8",
            "showbackground": true,
            "ticks": "",
            "zerolinecolor": "#EBF0F8"
           },
           "yaxis": {
            "backgroundcolor": "white",
            "gridcolor": "#DFE8F3",
            "gridwidth": 2,
            "linecolor": "#EBF0F8",
            "showbackground": true,
            "ticks": "",
            "zerolinecolor": "#EBF0F8"
           },
           "zaxis": {
            "backgroundcolor": "white",
            "gridcolor": "#DFE8F3",
            "gridwidth": 2,
            "linecolor": "#EBF0F8",
            "showbackground": true,
            "ticks": "",
            "zerolinecolor": "#EBF0F8"
           }
          },
          "shapedefaults": {
           "line": {
            "color": "#2a3f5f"
           }
          },
          "ternary": {
           "aaxis": {
            "gridcolor": "#DFE8F3",
            "linecolor": "#A2B1C6",
            "ticks": ""
           },
           "baxis": {
            "gridcolor": "#DFE8F3",
            "linecolor": "#A2B1C6",
            "ticks": ""
           },
           "bgcolor": "white",
           "caxis": {
            "gridcolor": "#DFE8F3",
            "linecolor": "#A2B1C6",
            "ticks": ""
           }
          },
          "title": {
           "x": 0.05
          },
          "xaxis": {
           "automargin": true,
           "gridcolor": "#EBF0F8",
           "linecolor": "#EBF0F8",
           "ticks": "",
           "title": {
            "standoff": 15
           },
           "zerolinecolor": "#EBF0F8",
           "zerolinewidth": 2
          },
          "yaxis": {
           "automargin": true,
           "gridcolor": "#EBF0F8",
           "linecolor": "#EBF0F8",
           "ticks": "",
           "title": {
            "standoff": 15
           },
           "zerolinecolor": "#EBF0F8",
           "zerolinewidth": 2
          }
         }
        },
        "title": {
         "text": "Threshold vs. Hamming loss (Model: mini, Weight: 0.7)"
        },
        "xaxis": {
         "anchor": "y",
         "domain": [
          0,
          1
         ],
         "title": {
          "text": "Cosine Similarity Threshold"
         }
        },
        "yaxis": {
         "anchor": "x",
         "domain": [
          0,
          1
         ],
         "title": {
          "text": "Hamming Loss"
         }
        }
       }
      },
      "image/png": "[encoded data removed]"
     },
     "metadata": {},
     "output_type": "display_data"
    }
   ],
   "source": [
    "# Create line plot for Hamming loss and cosine\n",
    "fig = px.line(\n",
    "    best_combo_df,\n",
    "    x='threshold',\n",
    "    y='hamming_loss',\n",
    "    title=f\"Threshold vs. Hamming loss (Model: {best_config['model']}, Weight: {best_config['weight']:.1f})\",\n",
    "    labels={'threshold': 'Cosine Similarity Threshold', 'hamming_loss': 'Hamming Loss'},\n",
    "    template='plotly_white'\n",
    ")\n",
    "\n",
    "# Add vertical line for optimal threshold\n",
    "fig.add_vline(\n",
    "    x=best_config['threshold'],\n",
    "    line_dash=\"dash\",\n",
    "    line_color=\"red\",\n",
    "    annotation_text=f\"Optimal: {best_config['threshold']:.2f}\",\n",
    "    annotation_position=\"top right\"\n",
    ")\n",
    "\n",
    "fig.show()"
   ]
  },
  {
   "cell_type": "code",
   "execution_count": 30,
   "id": "948706b0-124c-4a3d-a30c-f4c62aee6a17",
   "metadata": {},
   "outputs": [
    {
     "data": {
      "application/vnd.plotly.v1+json": {
       "config": {
        "plotlyServerURL": "https://plot.ly"
       },
       "data": [
        {
         "dimensions": [
          {
           "label": "weight",
           "values": {
            "bdata": "AAAAAAAAAAAAAAAAAAAAAAAAAAAAAAAAAAAAAAAAAACamZmZmZm5P5qZmZmZmbk/mpmZmZmZuT+amZmZmZm5P5qZmZmZmbk/mpmZmZmZyT+amZmZmZnJP5qZmZmZmck/mpmZmZmZyT+amZmZmZnJPzQzMzMzM9M/NDMzMzMz0z80MzMzMzPTPzQzMzMzM9M/NDMzMzMz0z80MzMzMzPTP5qZmZmZmdk/mpmZmZmZ2T+amZmZmZnZP5qZmZmZmdk/mpmZmZmZ2T+amZmZmZnZP5qZmZmZmdk/AAAAAAAA4D8AAAAAAADgPwAAAAAAAOA/AAAAAAAA4D8AAAAAAADgPwAAAAAAAOA/NDMzMzMz4z80MzMzMzPjPzQzMzMzM+M/NDMzMzMz4z80MzMzMzPjPzQzMzMzM+M/Z2ZmZmZm5j9nZmZmZmbmP2dmZmZmZuY/Z2ZmZmZm5j9nZmZmZmbmP2dmZmZmZuY/mpmZmZmZ6T+amZmZmZnpP5qZmZmZmek/mpmZmZmZ6T+amZmZmZnpP5qZmZmZmek/zczMzMzM7D/NzMzMzMzsP83MzMzMzOw/zczMzMzM7D/NzMzMzMzsP83MzMzMzOw/AAAAAAAA8D8AAAAAAADwPwAAAAAAAPA/AAAAAAAA8D8AAAAAAADwPwAAAAAAAPA/",
            "dtype": "f8"
           }
          },
          {
           "label": "threshold",
           "values": {
            "bdata": "3t3d3d3dzT9yHMdxHMfRP/VJn/RJn9Q/eHd3d3d31z/e3d3d3d3NP3Icx3Ecx9E/9Umf9Emf1D94d3d3d3fXP/qkT/qkT9o/3t3d3d3dzT9yHMdxHMfRP/VJn/RJn9Q/eHd3d3d31z/6pE/6pE/aP97d3d3d3c0/chzHcRzH0T/1SZ/0SZ/UP3h3d3d3d9c/+qRP+qRP2j9+0id90ifdP97d3d3d3c0/chzHcRzH0T/1SZ/0SZ/UP3h3d3d3d9c/+qRP+qRP2j9+0id90ifdPwAAAAAAAOA/chzHcRzH0T/1SZ/0SZ/UP3h3d3d3d9c/+qRP+qRP2j9+0id90ifdPwAAAAAAAOA/chzHcRzH0T/1SZ/0SZ/UP3h3d3d3d9c/+qRP+qRP2j9+0id90ifdPwAAAAAAAOA/chzHcRzH0T/1SZ/0SZ/UP3h3d3d3d9c/+qRP+qRP2j9+0id90ifdPwAAAAAAAOA/chzHcRzH0T/1SZ/0SZ/UP3h3d3d3d9c/+qRP+qRP2j9+0id90ifdPwAAAAAAAOA/chzHcRzH0T/1SZ/0SZ/UP3h3d3d3d9c/+qRP+qRP2j9+0id90ifdPwAAAAAAAOA/chzHcRzH0T/1SZ/0SZ/UP3h3d3d3d9c/+qRP+qRP2j9+0id90ifdPwAAAAAAAOA/",
            "dtype": "f8"
           }
          },
          {
           "label": "macro_f1",
           "values": {
            "bdata": "xQB8GIO4zT/vontTA8rJP9CRI1/Z+sY/R80aum5wuj/hsajXzmDUP3+QGo37+c0/Hr/gaEwGzT+XlMu90njAP+c3rViOK6s/I/nJThPT1j8lkGs7IUjQP8zKve3s388/1sdOxb1rxj+g6iPduRe6P6VnmRA0cdY/HGYMcbth1j+5XLKE8ezQP7U3++F+88c/apoYzVpNwz8pyZ6vKre1P5TOWyJ4RNg/0VbwTVd21z+AcE+m8QfXP5bVWcyuvs8/QfrBvBzLxD8FxKbSkHO/P4UWyysuwqk/iwhwy7o+2T/BX0aKSd3WPxksZOX4MNI/cyf3oG7vxj+XHllYUN3DP9NEA5Vbb7Y/47KU3bqn2D97ncZYe6TWP4AK9KP/LtY/sCTjneU/yT+XHllYUN3DPx/cVZyufbk/rKWnbEe82T8uGoJQxr7XPyE+il4rBNY/gW9eTTwrzj9197qhPrPHPx8zPd0Ogbw/n7zXeoqY2D+HH6f1B7fXP5xHd4Tfm9Y/Zzz0tDmT0D9197qhPrPHP9W1aQUO274/Lw0DvuHu1j/aRSebTUbXP358ctLRx9c/ysoedkji0D970DrgNqHGP0fJ6fFzlLw/ZD0HzPi+1j/AE3qZeA3XP9B+QxAhWdY/BEH7YX360D9Zrhi+FH/EP/NwN7fp97k/",
            "dtype": "f8"
           }
          },
          {
           "label": "hamming_loss",
           "values": {
            "bdata": "qvHSTWIQyD8FyL3mQtLEP/Bgnqh/I8Q//05WyxsjyD8K16NwPQrHP5B7zYWkKcU/O99PjZduwj9VVVVVVVXFP/PGCCb6O8k/Hz7DrgC5xz9A7jUXkqbEPzvfT42XbsI/UUZvy1odwz+xqTTk3GfHP0oMAiuHFsk/Zq2OCR7Mwz8meDBP1L/BPzvfT42XbsI/oNMGOm2gwz9YfMVXfMXHPzWl4uzDZ8g/tjomeDBPxD9x9uEz7ArAP/yp8dJNYsA/xpJfLPnFwj97FK5H4XrEP/mKr/iKr8g/2/l+arx0wz9YObTIdr6/P82FpCkVZ78/O99PjZduwj+LbOf7qfHCP2q8dJMYBMY/2/l+arx0wz9YObTIdr6/P+41F5KmVLw/JngwT9S/wT+LbOf7qfHCP+AIZfS2rMU/AbnXXEiawj/NhaQpFWe/P2SCB/NE/bs/TDeJQWDlwD8meDBP1L/BP1VVVVVVVcU/sStA7jUXwj+4HoXrUbi+P08b6LSBTrs/cfbhM+wKwD8meDBP1L/BP8uhRbbz/cQ/dgXIveZCwj9D0pSKsw+/P08b6LSBTrs/Q9KUirMPvz92Bci95kLCP8uhRbbz/cQ/1uqY4ME8wT+jt2Wtjgm+P8Rn2BUg97o/uB6F61G4vj8BuddcSJrCP1VVVVVVVcU/",
            "dtype": "f8"
           }
          }
         ],
         "domain": {
          "x": [
           0,
           1
          ],
          "y": [
           0,
           1
          ]
         },
         "line": {
          "color": {
           "bdata": "xQB8GIO4zT/vontTA8rJP9CRI1/Z+sY/R80aum5wuj/hsajXzmDUP3+QGo37+c0/Hr/gaEwGzT+XlMu90njAP+c3rViOK6s/I/nJThPT1j8lkGs7IUjQP8zKve3s388/1sdOxb1rxj+g6iPduRe6P6VnmRA0cdY/HGYMcbth1j+5XLKE8ezQP7U3++F+88c/apoYzVpNwz8pyZ6vKre1P5TOWyJ4RNg/0VbwTVd21z+AcE+m8QfXP5bVWcyuvs8/QfrBvBzLxD8FxKbSkHO/P4UWyysuwqk/iwhwy7o+2T/BX0aKSd3WPxksZOX4MNI/cyf3oG7vxj+XHllYUN3DP9NEA5Vbb7Y/47KU3bqn2D97ncZYe6TWP4AK9KP/LtY/sCTjneU/yT+XHllYUN3DPx/cVZyufbk/rKWnbEe82T8uGoJQxr7XPyE+il4rBNY/gW9eTTwrzj9197qhPrPHPx8zPd0Ogbw/n7zXeoqY2D+HH6f1B7fXP5xHd4Tfm9Y/Zzz0tDmT0D9197qhPrPHP9W1aQUO274/Lw0DvuHu1j/aRSebTUbXP358ctLRx9c/ysoedkji0D970DrgNqHGP0fJ6fFzlLw/ZD0HzPi+1j/AE3qZeA3XP9B+QxAhWdY/BEH7YX360D9Zrhi+FH/EP/NwN7fp97k/",
           "dtype": "f8"
          },
          "coloraxis": "coloraxis"
         },
         "name": "",
         "type": "parcoords"
        }
       ],
       "layout": {
        "coloraxis": {
         "colorbar": {
          "title": {
           "text": "macro_f1"
          }
         },
         "colorscale": [
          [
           0,
           "rgb(0, 147, 146)"
          ],
          [
           0.16666666666666666,
           "rgb(114, 170, 161)"
          ],
          [
           0.3333333333333333,
           "rgb(177, 199, 179)"
          ],
          [
           0.5,
           "rgb(241, 234, 200)"
          ],
          [
           0.6666666666666666,
           "rgb(229, 185, 173)"
          ],
          [
           0.8333333333333334,
           "rgb(217, 137, 148)"
          ],
          [
           1,
           "rgb(208, 88, 126)"
          ]
         ]
        },
        "legend": {
         "tracegroupgap": 0
        },
        "template": {
         "data": {
          "candlestick": [
           {
            "decreasing": {
             "line": {
              "color": "#000033"
             }
            },
            "increasing": {
             "line": {
              "color": "#000032"
             }
            },
            "type": "candlestick"
           }
          ],
          "contour": [
           {
            "colorscale": [
             [
              0,
              "#000011"
             ],
             [
              0.1111111111111111,
              "#000012"
             ],
             [
              0.2222222222222222,
              "#000013"
             ],
             [
              0.3333333333333333,
              "#000014"
             ],
             [
              0.4444444444444444,
              "#000015"
             ],
             [
              0.5555555555555556,
              "#000016"
             ],
             [
              0.6666666666666666,
              "#000017"
             ],
             [
              0.7777777777777778,
              "#000018"
             ],
             [
              0.8888888888888888,
              "#000019"
             ],
             [
              1,
              "#000020"
             ]
            ],
            "type": "contour"
           }
          ],
          "contourcarpet": [
           {
            "colorscale": [
             [
              0,
              "#000011"
             ],
             [
              0.1111111111111111,
              "#000012"
             ],
             [
              0.2222222222222222,
              "#000013"
             ],
             [
              0.3333333333333333,
              "#000014"
             ],
             [
              0.4444444444444444,
              "#000015"
             ],
             [
              0.5555555555555556,
              "#000016"
             ],
             [
              0.6666666666666666,
              "#000017"
             ],
             [
              0.7777777777777778,
              "#000018"
             ],
             [
              0.8888888888888888,
              "#000019"
             ],
             [
              1,
              "#000020"
             ]
            ],
            "type": "contourcarpet"
           }
          ],
          "heatmap": [
           {
            "colorscale": [
             [
              0,
              "#000011"
             ],
             [
              0.1111111111111111,
              "#000012"
             ],
             [
              0.2222222222222222,
              "#000013"
             ],
             [
              0.3333333333333333,
              "#000014"
             ],
             [
              0.4444444444444444,
              "#000015"
             ],
             [
              0.5555555555555556,
              "#000016"
             ],
             [
              0.6666666666666666,
              "#000017"
             ],
             [
              0.7777777777777778,
              "#000018"
             ],
             [
              0.8888888888888888,
              "#000019"
             ],
             [
              1,
              "#000020"
             ]
            ],
            "type": "heatmap"
           }
          ],
          "histogram2d": [
           {
            "colorscale": [
             [
              0,
              "#000011"
             ],
             [
              0.1111111111111111,
              "#000012"
             ],
             [
              0.2222222222222222,
              "#000013"
             ],
             [
              0.3333333333333333,
              "#000014"
             ],
             [
              0.4444444444444444,
              "#000015"
             ],
             [
              0.5555555555555556,
              "#000016"
             ],
             [
              0.6666666666666666,
              "#000017"
             ],
             [
              0.7777777777777778,
              "#000018"
             ],
             [
              0.8888888888888888,
              "#000019"
             ],
             [
              1,
              "#000020"
             ]
            ],
            "type": "histogram2d"
           }
          ],
          "icicle": [
           {
            "textfont": {
             "color": "white"
            },
            "type": "icicle"
           }
          ],
          "sankey": [
           {
            "textfont": {
             "color": "#000036"
            },
            "type": "sankey"
           }
          ],
          "scatter": [
           {
            "marker": {
             "line": {
              "width": 0
             }
            },
            "type": "scatter"
           }
          ],
          "table": [
           {
            "cells": {
             "fill": {
              "color": "#000038"
             },
             "font": {
              "color": "#000037"
             },
             "line": {
              "color": "#000039"
             }
            },
            "header": {
             "fill": {
              "color": "#000040"
             },
             "font": {
              "color": "#000036"
             },
             "line": {
              "color": "#000039"
             }
            },
            "type": "table"
           }
          ],
          "waterfall": [
           {
            "connector": {
             "line": {
              "color": "#000036",
              "width": 2
             }
            },
            "decreasing": {
             "marker": {
              "color": "#000033"
             }
            },
            "increasing": {
             "marker": {
              "color": "#000032"
             }
            },
            "totals": {
             "marker": {
              "color": "#000034"
             }
            },
            "type": "waterfall"
           }
          ]
         },
         "layout": {
          "coloraxis": {
           "colorscale": [
            [
             0,
             "#000011"
            ],
            [
             0.1111111111111111,
             "#000012"
            ],
            [
             0.2222222222222222,
             "#000013"
            ],
            [
             0.3333333333333333,
             "#000014"
            ],
            [
             0.4444444444444444,
             "#000015"
            ],
            [
             0.5555555555555556,
             "#000016"
            ],
            [
             0.6666666666666666,
             "#000017"
            ],
            [
             0.7777777777777778,
             "#000018"
            ],
            [
             0.8888888888888888,
             "#000019"
            ],
            [
             1,
             "#000020"
            ]
           ]
          },
          "colorscale": {
           "diverging": [
            [
             0,
             "#000021"
            ],
            [
             0.1,
             "#000022"
            ],
            [
             0.2,
             "#000023"
            ],
            [
             0.3,
             "#000024"
            ],
            [
             0.4,
             "#000025"
            ],
            [
             0.5,
             "#000026"
            ],
            [
             0.6,
             "#000027"
            ],
            [
             0.7,
             "#000028"
            ],
            [
             0.8,
             "#000029"
            ],
            [
             0.9,
             "#000030"
            ],
            [
             1,
             "#000031"
            ]
           ],
           "sequential": [
            [
             0,
             "#000011"
            ],
            [
             0.1111111111111111,
             "#000012"
            ],
            [
             0.2222222222222222,
             "#000013"
            ],
            [
             0.3333333333333333,
             "#000014"
            ],
            [
             0.4444444444444444,
             "#000015"
            ],
            [
             0.5555555555555556,
             "#000016"
            ],
            [
             0.6666666666666666,
             "#000017"
            ],
            [
             0.7777777777777778,
             "#000018"
            ],
            [
             0.8888888888888888,
             "#000019"
            ],
            [
             1,
             "#000020"
            ]
           ],
           "sequentialminus": [
            [
             0,
             "#000011"
            ],
            [
             0.1111111111111111,
             "#000012"
            ],
            [
             0.2222222222222222,
             "#000013"
            ],
            [
             0.3333333333333333,
             "#000014"
            ],
            [
             0.4444444444444444,
             "#000015"
            ],
            [
             0.5555555555555556,
             "#000016"
            ],
            [
             0.6666666666666666,
             "#000017"
            ],
            [
             0.7777777777777778,
             "#000018"
            ],
            [
             0.8888888888888888,
             "#000019"
            ],
            [
             1,
             "#000020"
            ]
           ]
          },
          "colorway": [
           "#000001",
           "#000002",
           "#000003",
           "#000004",
           "#000005",
           "#000006",
           "#000007",
           "#000008",
           "#000009",
           "#000010"
          ]
         }
        },
        "title": {
         "text": "Configuration Performance Comparison"
        }
       }
      },
      "image/png": "[encoded data removed]"
     },
     "metadata": {},
     "output_type": "display_data"
    }
   ],
   "source": [
    "# Parallel coordinates for multi-dimensional analysis\n",
    "fig = px.parallel_coordinates(\n",
    "    results_df.loc[results_df.hamming_loss < 0.2],\n",
    "    color='macro_f1',\n",
    "    dimensions=['model', 'weight', 'threshold', 'macro_f1', 'hamming_loss'],\n",
    "    color_continuous_scale=px.colors.diverging.Tealrose,\n",
    "    title=\"Configuration Performance Comparison\"\n",
    ")\n",
    "\n",
    "fig.show()"
   ]
  }
 ],
 "metadata": {
  "kernelspec": {
   "display_name": "Python 3 (ipykernel)",
   "language": "python",
   "name": "python3"
  },
  "language_info": {
   "codemirror_mode": {
    "name": "ipython",
    "version": 3
   },
   "file_extension": ".py",
   "mimetype": "text/x-python",
   "name": "python",
   "nbconvert_exporter": "python",
   "pygments_lexer": "ipython3",
   "version": "3.10.0"
  }
 },
 "nbformat": 4,
 "nbformat_minor": 5
}

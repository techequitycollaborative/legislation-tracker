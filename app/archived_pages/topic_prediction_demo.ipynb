{
 "cells": [
  {
   "cell_type": "code",
   "execution_count": 1,
   "id": "3874fa35-ed12-4e16-9902-11157325eeb1",
   "metadata": {},
   "outputs": [],
   "source": [
    "# Data representation and manipulation\n",
    "import pandas as pd \n",
    "from sentence_transformers import SentenceTransformer \n",
    "from nltk.corpus import stopwords\n",
    "import re\n",
    "from utils import general\n",
    "# Prediction and evaluation packages\n",
    "import numpy as np \n",
    "from sklearn.metrics.pairwise import cosine_similarity\n",
    "from sklearn.preprocessing import MultiLabelBinarizer\n",
    "from sklearn.metrics import hamming_loss, classification_report, confusion_matrix"
   ]
  },
  {
   "cell_type": "code",
   "execution_count": 2,
   "id": "f6b52009-2783-4f77-93b3-29d02dd6b791",
   "metadata": {},
   "outputs": [],
   "source": [
    "stop_words = set(stopwords.words('english'))\n",
    "# Add domain-specific stopwords\n",
    "legislation_words = [\n",
    "    \"law\",\n",
    "    \"provisions\",\n",
    "    \"existing\",\n",
    "    \"establishes\",\n",
    "    \"requires\",\n",
    "    \"establish\",\n",
    "    \"require\",\n",
    "    \"laws\",\n",
    "    \"prohibit\",\n",
    "    \"prohibits\"\n",
    "]\n",
    "stop_words.update(legislation_words)"
   ]
  },
  {
   "cell_type": "code",
   "execution_count": 3,
   "id": "97696f6c-75d4-411c-953b-eabb00a9e7ce",
   "metadata": {},
   "outputs": [],
   "source": [
    "# Define a function to remove stopwords from text\n",
    "\n",
    "def preprocess_text(text):\n",
    "    words = re.findall(r'\\b\\w+\\b', text.lower())  # Whitespace tokenize\n",
    "    return ' '.join([w for w in words if w not in stop_words])"
   ]
  },
  {
   "cell_type": "code",
   "execution_count": 4,
   "id": "f0b058b7-eb03-4aef-8a45-278945183ce4",
   "metadata": {},
   "outputs": [],
   "source": [
    "# A pretrained model finetuned on the US Code\n",
    "# legal_model = SentenceTransformer(\"ArchitRastogi/BGE-Small-LegalEmbeddings-USCode\")\n",
    "# A pretrained model finetuned on 1B tokens from the internet\n",
    "mini_model = SentenceTransformer('all-MiniLM-L6-v2')"
   ]
  },
  {
   "cell_type": "code",
   "execution_count": 7,
   "id": "d1ef581f-324c-4fa8-9b09-1aae910765e3",
   "metadata": {},
   "outputs": [],
   "source": [
    "# Create topic embeddings\n",
    "# legal_embeddings = {}\n",
    "mini_embeddings = {}\n",
    "for topic, data in general.topic_config.items():\n",
    "    # Take the centroid of the topic itself and its keywords\n",
    "    contents = data[\"keywords\"] + [topic]\n",
    "    mini_embeddings[topic] = mini_model.encode(' '.join(contents))\n",
    "    # legal_embeddings[topic] = np.mean(legal_model.encode(contents), axis=0)\n",
    "    # mini_embeddings[topic] = np.mean(mini_model.encode(contents), axis=0)"
   ]
  },
  {
   "cell_type": "code",
   "execution_count": 6,
   "id": "8b6ffc4a-8dbd-458c-947c-1c4a3b2f72e1",
   "metadata": {},
   "outputs": [],
   "source": [
    "# Use a weighted combination of bill title and abstract to embed the text for cosine similarity\n",
    "\n",
    "def get_weighted_embedding(model, row, title_weight=0.8):\n",
    "    title = str(row[\"bill_name\"]) # Original bill name, make sure to cast as a string\n",
    "    abstract = str(row[\"bill_text\"]) # Bill text, recast as a string \n",
    "    title_embed = model.encode(preprocess_text(title))\n",
    "    abstract_embed = model.encode(preprocess_text(abstract))\n",
    "    return (title_weight * title_embed) + ((1 - title_weight) * abstract_embed)"
   ]
  },
  {
   "cell_type": "code",
   "execution_count": 8,
   "id": "7769a34d-d2cc-47c7-a7bb-4a94f631f488",
   "metadata": {},
   "outputs": [],
   "source": [
    "# Given a pre-computed embedding and label embeddings, add any label if\n",
    "# keyword is matched OR similarity exceeds the threshold\n",
    "def predict_topics(row, label_embeddings, threshold=0.384):\n",
    "    # Store predictions, topics from keyword-match and topics to check for similarity\n",
    "    predictions = {}\n",
    "    \n",
    "    # Loop through the topic embeddings\n",
    "    for label, embedding in label_embeddings.items():\n",
    "        similarity = cosine_similarity([row.bill_embedding], [embedding])[0][0]\n",
    "        predictions[label] = similarity > threshold\n",
    "            \n",
    "    # Add 'Other' classification if nothing has stuck\n",
    "    predictions[\"Other\"] = (not any(predictions.values()))\n",
    "\n",
    "    # return it as a list\n",
    "    return [t for t, predicted in predictions.items() if predicted]\n",
    "\n",
    "def predict_topics_keyword_first(row, label_embeddings, threshold=0.384):\n",
    "    # Store predictions, topics from keyword-match and topics to check for similarity\n",
    "    predictions = {}\n",
    "    \n",
    "    topics_from_keywords = set()\n",
    "    \n",
    "    # do keyword match, then cosine similarity\n",
    "    for kw in row.keyword_matches:\n",
    "        found = general.keyword_to_topics.get(kw, [])\n",
    "        topics_from_keywords.update(found)\n",
    "\n",
    "    # Add hard-match topics\n",
    "    for topic in topics_from_keywords:\n",
    "        predictions[topic] = True\n",
    "\n",
    "    # Loop through the topic embeddings\n",
    "    for label, embedding in label_embeddings.items():\n",
    "        if label in topics_from_keywords:\n",
    "            continue\n",
    "        else: # Only calculate cosine similarity if keyword has not already been matched\n",
    "            similarity = cosine_similarity([row.bill_embedding], [embedding])[0][0]\n",
    "            predictions[label] = similarity > threshold\n",
    "            \n",
    "    # Add 'Other' classification if nothing has stuck\n",
    "    predictions[\"Other\"] = (not any(predictions.values()))\n",
    "\n",
    "    # return it as a list\n",
    "    return [t for t, predicted in predictions.items() if predicted]\n",
    "\n",
    "def predict_topics_cosine_first(row, label_embeddings, threshold=0.384):\n",
    "    # Store predictions, topics from keyword-match and topics to check for similarity\n",
    "    predictions = {}\n",
    "\n",
    "    # Loop through the topic embeddings\n",
    "    for label, embedding in label_embeddings.items():\n",
    "        similarity = cosine_similarity([row.bill_embedding], [embedding])[0][0]\n",
    "        predictions[label] = similarity > threshold\n",
    "\n",
    "    # do keyword match\n",
    "    topics_from_keywords = set()\n",
    "    for kw in row.keyword_matches:\n",
    "        found = general.keyword_to_topics.get(kw, [])\n",
    "        topics_from_keywords.update(found)\n",
    "\n",
    "    # Add hard-match topics\n",
    "    for topic in topics_from_keywords:\n",
    "        predictions[topic] = True\n",
    "            \n",
    "    # Add 'Other' classification if nothing has stuck\n",
    "    predictions[\"Other\"] = (not any(predictions.values()))\n",
    "\n",
    "    # return it as a list\n",
    "    return [t for t, predicted in predictions.items() if predicted]"
   ]
  },
  {
   "cell_type": "code",
   "execution_count": 9,
   "id": "338546ec-3c1f-4c2d-8ad7-496c9fe56f38",
   "metadata": {},
   "outputs": [],
   "source": [
    "df = pd.read_csv(\"techequity_dashboard_bills.csv\") # manually downloaded Dashboard bills"
   ]
  },
  {
   "cell_type": "code",
   "execution_count": 10,
   "id": "b330e274-1540-4057-870d-f1a6e8451dbf",
   "metadata": {},
   "outputs": [
    {
     "data": {
      "text/html": [
       "<div>\n",
       "<style scoped>\n",
       "    .dataframe tbody tr th:only-of-type {\n",
       "        vertical-align: middle;\n",
       "    }\n",
       "\n",
       "    .dataframe tbody tr th {\n",
       "        vertical-align: top;\n",
       "    }\n",
       "\n",
       "    .dataframe thead th {\n",
       "        text-align: right;\n",
       "    }\n",
       "</style>\n",
       "<table border=\"1\" class=\"dataframe\">\n",
       "  <thead>\n",
       "    <tr style=\"text-align: right;\">\n",
       "      <th></th>\n",
       "      <th>bill_number</th>\n",
       "      <th>bill_name</th>\n",
       "      <th>bill_text</th>\n",
       "      <th>bill_topic</th>\n",
       "      <th>keyword_matches</th>\n",
       "    </tr>\n",
       "  </thead>\n",
       "  <tbody>\n",
       "    <tr>\n",
       "      <th>0</th>\n",
       "      <td>AB 1248</td>\n",
       "      <td>Hiring of real property: fees and charges.</td>\n",
       "      <td>Existing law regulates the hiring of real prop...</td>\n",
       "      <td>[Labor]</td>\n",
       "      <td>[hiring]</td>\n",
       "    </tr>\n",
       "    <tr>\n",
       "      <th>1</th>\n",
       "      <td>SB 53</td>\n",
       "      <td>Artificial intelligence models: large developers.</td>\n",
       "      <td>(1) Existing law generally regulates artificia...</td>\n",
       "      <td>[AI]</td>\n",
       "      <td>[artificial intelligence]</td>\n",
       "    </tr>\n",
       "    <tr>\n",
       "      <th>2</th>\n",
       "      <td>SB 522</td>\n",
       "      <td>Housing: tenant protections.</td>\n",
       "      <td>Existing law governs the hiring of residential...</td>\n",
       "      <td>[Housing]</td>\n",
       "      <td>[housing, tenant]</td>\n",
       "    </tr>\n",
       "    <tr>\n",
       "      <th>3</th>\n",
       "      <td>AB 502</td>\n",
       "      <td>Elections: deceptive media in advertisements.</td>\n",
       "      <td>Existing law prohibits a person or entity from...</td>\n",
       "      <td>[AI]</td>\n",
       "      <td>[deceptive media]</td>\n",
       "    </tr>\n",
       "    <tr>\n",
       "      <th>4</th>\n",
       "      <td>AB 1018</td>\n",
       "      <td>Automated decision systems.</td>\n",
       "      <td>The California Fair Employment and Housing Act...</td>\n",
       "      <td>[AI]</td>\n",
       "      <td>[automated]</td>\n",
       "    </tr>\n",
       "    <tr>\n",
       "      <th>...</th>\n",
       "      <td>...</td>\n",
       "      <td>...</td>\n",
       "      <td>...</td>\n",
       "      <td>...</td>\n",
       "      <td>...</td>\n",
       "    </tr>\n",
       "    <tr>\n",
       "      <th>58</th>\n",
       "      <td>AB 279</td>\n",
       "      <td>School libraries: model library standards.</td>\n",
       "      <td>Existing law requires the State Board of Educa...</td>\n",
       "      <td>[Other]</td>\n",
       "      <td>[]</td>\n",
       "    </tr>\n",
       "    <tr>\n",
       "      <th>59</th>\n",
       "      <td>AB 397</td>\n",
       "      <td>Personal Income Tax Law: young child tax credit.</td>\n",
       "      <td>The Personal Income Tax Law allows various cre...</td>\n",
       "      <td>[Kids]</td>\n",
       "      <td>[child]</td>\n",
       "    </tr>\n",
       "    <tr>\n",
       "      <th>60</th>\n",
       "      <td>AB 682</td>\n",
       "      <td>Health care coverage reporting.</td>\n",
       "      <td>Existing law, the Knox-Keene Health Care Servi...</td>\n",
       "      <td>[Health]</td>\n",
       "      <td>[health care]</td>\n",
       "    </tr>\n",
       "    <tr>\n",
       "      <th>61</th>\n",
       "      <td>AB 412</td>\n",
       "      <td>Generative artificial intelligence: training d...</td>\n",
       "      <td>Existing federal law, through copyright, provi...</td>\n",
       "      <td>[Data, Surveillence, Privacy, AI, Labor]</td>\n",
       "      <td>[artificial intelligence, training data]</td>\n",
       "    </tr>\n",
       "    <tr>\n",
       "      <th>62</th>\n",
       "      <td>AB 1024</td>\n",
       "      <td>Department of Fish and Wildlife: San Gabriel V...</td>\n",
       "      <td>Under existing law, the Department of Fish and...</td>\n",
       "      <td>[Safety]</td>\n",
       "      <td>[safety]</td>\n",
       "    </tr>\n",
       "  </tbody>\n",
       "</table>\n",
       "<p>63 rows × 5 columns</p>\n",
       "</div>"
      ],
      "text/plain": [
       "   bill_number                                          bill_name  \\\n",
       "0      AB 1248         Hiring of real property: fees and charges.   \n",
       "1        SB 53  Artificial intelligence models: large developers.   \n",
       "2       SB 522                       Housing: tenant protections.   \n",
       "3       AB 502      Elections: deceptive media in advertisements.   \n",
       "4      AB 1018                        Automated decision systems.   \n",
       "..         ...                                                ...   \n",
       "58      AB 279         School libraries: model library standards.   \n",
       "59      AB 397   Personal Income Tax Law: young child tax credit.   \n",
       "60      AB 682                    Health care coverage reporting.   \n",
       "61      AB 412  Generative artificial intelligence: training d...   \n",
       "62     AB 1024  Department of Fish and Wildlife: San Gabriel V...   \n",
       "\n",
       "                                            bill_text  \\\n",
       "0   Existing law regulates the hiring of real prop...   \n",
       "1   (1) Existing law generally regulates artificia...   \n",
       "2   Existing law governs the hiring of residential...   \n",
       "3   Existing law prohibits a person or entity from...   \n",
       "4   The California Fair Employment and Housing Act...   \n",
       "..                                                ...   \n",
       "58  Existing law requires the State Board of Educa...   \n",
       "59  The Personal Income Tax Law allows various cre...   \n",
       "60  Existing law, the Knox-Keene Health Care Servi...   \n",
       "61  Existing federal law, through copyright, provi...   \n",
       "62  Under existing law, the Department of Fish and...   \n",
       "\n",
       "                                  bill_topic  \\\n",
       "0                                    [Labor]   \n",
       "1                                       [AI]   \n",
       "2                                  [Housing]   \n",
       "3                                       [AI]   \n",
       "4                                       [AI]   \n",
       "..                                       ...   \n",
       "58                                   [Other]   \n",
       "59                                    [Kids]   \n",
       "60                                  [Health]   \n",
       "61  [Data, Surveillence, Privacy, AI, Labor]   \n",
       "62                                  [Safety]   \n",
       "\n",
       "                             keyword_matches  \n",
       "0                                   [hiring]  \n",
       "1                  [artificial intelligence]  \n",
       "2                          [housing, tenant]  \n",
       "3                          [deceptive media]  \n",
       "4                                [automated]  \n",
       "..                                       ...  \n",
       "58                                        []  \n",
       "59                                   [child]  \n",
       "60                             [health care]  \n",
       "61  [artificial intelligence, training data]  \n",
       "62                                  [safety]  \n",
       "\n",
       "[63 rows x 5 columns]"
      ]
     },
     "execution_count": 10,
     "metadata": {},
     "output_type": "execute_result"
    }
   ],
   "source": [
    "# Select only necessary columns\n",
    "df = df.loc[:,\n",
    "    [\n",
    "        \"bill_number\",\n",
    "        \"bill_name\",\n",
    "        \"bill_text\",\n",
    "        \"bill_topic\"\n",
    "    ]]\n",
    "\n",
    "# Make sure bill topic is represented as a list, not string\n",
    "from ast import literal_eval\n",
    "\n",
    "df.bill_topic = df.bill_topic.apply(literal_eval)\n",
    "df.bill_topic = df.bill_topic.apply(lambda x: [\"Other\"] if not x else x)\n",
    "df[\"keyword_matches\"] = df[\"bill_name\"].str.lower().str.findall(general.global_keyword_regex)\n",
    "df # Preview"
   ]
  },
  {
   "cell_type": "code",
   "execution_count": 11,
   "id": "6b56dd90-49bc-42d1-8166-cf32a4041f2e",
   "metadata": {},
   "outputs": [],
   "source": [
    "df[\"bill_embedding\"] = df.apply(\n",
    "    lambda x: get_weighted_embedding(mini_model, x),\n",
    "    axis=1\n",
    ")"
   ]
  },
  {
   "cell_type": "code",
   "execution_count": 12,
   "id": "81ab3a32-26d1-4f25-ad3b-b6bae92796ba",
   "metadata": {},
   "outputs": [],
   "source": [
    "df[\"keyword_first_prediction\"] = df.apply(\n",
    "    lambda x: predict_topics_keyword_first(\n",
    "        x, \n",
    "        label_embeddings=mini_embeddings\n",
    "    ), \n",
    "    axis=1\n",
    ")\n",
    "\n",
    "df[\"cosine_first_prediction\"] = df.apply(\n",
    "    lambda x: predict_topics_cosine_first(\n",
    "        x, \n",
    "        label_embeddings=mini_embeddings\n",
    "    ), \n",
    "    axis=1\n",
    ")\n",
    "df[\"cosine_only_prediction\"] = df.apply(\n",
    "    lambda x: predict_topics(\n",
    "        x, \n",
    "        label_embeddings=mini_embeddings\n",
    "    ), \n",
    "    axis=1\n",
    ")"
   ]
  },
  {
   "cell_type": "code",
   "execution_count": 13,
   "id": "6b9521bf-f7c3-4107-b44c-976cce584e34",
   "metadata": {},
   "outputs": [
    {
     "data": {
      "text/html": [
       "<div>\n",
       "<style scoped>\n",
       "    .dataframe tbody tr th:only-of-type {\n",
       "        vertical-align: middle;\n",
       "    }\n",
       "\n",
       "    .dataframe tbody tr th {\n",
       "        vertical-align: top;\n",
       "    }\n",
       "\n",
       "    .dataframe thead th {\n",
       "        text-align: right;\n",
       "    }\n",
       "</style>\n",
       "<table border=\"1\" class=\"dataframe\">\n",
       "  <thead>\n",
       "    <tr style=\"text-align: right;\">\n",
       "      <th></th>\n",
       "      <th>bill_number</th>\n",
       "      <th>bill_name</th>\n",
       "      <th>bill_text</th>\n",
       "      <th>bill_topic</th>\n",
       "      <th>keyword_matches</th>\n",
       "      <th>bill_embedding</th>\n",
       "      <th>keyword_first_prediction</th>\n",
       "      <th>cosine_first_prediction</th>\n",
       "      <th>cosine_only_prediction</th>\n",
       "    </tr>\n",
       "  </thead>\n",
       "  <tbody>\n",
       "    <tr>\n",
       "      <th>8</th>\n",
       "      <td>SB 390</td>\n",
       "      <td>Community facilities district: inclusion or an...</td>\n",
       "      <td>Existing law, the Mello-Roos Community Facilit...</td>\n",
       "      <td>[Other]</td>\n",
       "      <td>[]</td>\n",
       "      <td>[0.07138873, -0.013753141, 0.024923155, 0.0416...</td>\n",
       "      <td>[Other]</td>\n",
       "      <td>[Other]</td>\n",
       "      <td>[Other]</td>\n",
       "    </tr>\n",
       "    <tr>\n",
       "      <th>12</th>\n",
       "      <td>SB 259</td>\n",
       "      <td>Fair Online Pricing Act.</td>\n",
       "      <td>The California Consumer Privacy Act of 2018 gr...</td>\n",
       "      <td>[Other]</td>\n",
       "      <td>[]</td>\n",
       "      <td>[-0.05706851, -0.015436118, -0.0040004663, -0....</td>\n",
       "      <td>[Collusion, Price Fixing]</td>\n",
       "      <td>[Collusion, Price Fixing]</td>\n",
       "      <td>[Collusion, Price Fixing]</td>\n",
       "    </tr>\n",
       "    <tr>\n",
       "      <th>18</th>\n",
       "      <td>AB 748</td>\n",
       "      <td>Commissioner of Financial Protection and Innov...</td>\n",
       "      <td>The California Consumer Financial Protection L...</td>\n",
       "      <td>[Other]</td>\n",
       "      <td>[]</td>\n",
       "      <td>[-0.054191202, 0.054383375, -0.06914768, 0.018...</td>\n",
       "      <td>[Other]</td>\n",
       "      <td>[Other]</td>\n",
       "      <td>[Other]</td>\n",
       "    </tr>\n",
       "    <tr>\n",
       "      <th>35</th>\n",
       "      <td>AB 1355</td>\n",
       "      <td>Location privacy.</td>\n",
       "      <td>(1) Existing law, the California Consumer Priv...</td>\n",
       "      <td>[Other]</td>\n",
       "      <td>[]</td>\n",
       "      <td>[0.03950727, -0.003047233, -0.011547702, -0.02...</td>\n",
       "      <td>[Data, Surveillence, Privacy]</td>\n",
       "      <td>[Data, Surveillence, Privacy]</td>\n",
       "      <td>[Data, Surveillence, Privacy]</td>\n",
       "    </tr>\n",
       "    <tr>\n",
       "      <th>36</th>\n",
       "      <td>AB 723</td>\n",
       "      <td>Real estate: digitally altered images: disclos...</td>\n",
       "      <td>Existing law, the Real Estate Law, provides fo...</td>\n",
       "      <td>[Other]</td>\n",
       "      <td>[]</td>\n",
       "      <td>[0.0020674537, 0.04273584, 0.0022380394, 0.010...</td>\n",
       "      <td>[Other]</td>\n",
       "      <td>[Other]</td>\n",
       "      <td>[Other]</td>\n",
       "    </tr>\n",
       "    <tr>\n",
       "      <th>40</th>\n",
       "      <td>SB 57</td>\n",
       "      <td>Electrical corporations: tariffs.</td>\n",
       "      <td>Existing law vests the Public Utilities Commis...</td>\n",
       "      <td>[Other]</td>\n",
       "      <td>[]</td>\n",
       "      <td>[-0.052643646, -0.012158349, 0.034072127, -0.0...</td>\n",
       "      <td>[Other]</td>\n",
       "      <td>[Other]</td>\n",
       "      <td>[Other]</td>\n",
       "    </tr>\n",
       "    <tr>\n",
       "      <th>42</th>\n",
       "      <td>SB 813</td>\n",
       "      <td>Multistakeholder regulatory organizations.</td>\n",
       "      <td>Existing law requires, on or before September ...</td>\n",
       "      <td>[Other]</td>\n",
       "      <td>[]</td>\n",
       "      <td>[0.04449629, -0.041931123, -0.015178479, -0.06...</td>\n",
       "      <td>[Other]</td>\n",
       "      <td>[Other]</td>\n",
       "      <td>[Other]</td>\n",
       "    </tr>\n",
       "    <tr>\n",
       "      <th>43</th>\n",
       "      <td>AB 1170</td>\n",
       "      <td>Maintenance of the codes.</td>\n",
       "      <td>Existing law directs the Legislative Counsel t...</td>\n",
       "      <td>[Other]</td>\n",
       "      <td>[]</td>\n",
       "      <td>[-0.07740823, 0.0068604485, 0.030221391, -0.02...</td>\n",
       "      <td>[Other]</td>\n",
       "      <td>[Other]</td>\n",
       "      <td>[Other]</td>\n",
       "    </tr>\n",
       "    <tr>\n",
       "      <th>45</th>\n",
       "      <td>AB 398</td>\n",
       "      <td>Personal income tax: Earned Income Tax Credit.</td>\n",
       "      <td>The Personal Income Tax Law, in modified confo...</td>\n",
       "      <td>[Other]</td>\n",
       "      <td>[]</td>\n",
       "      <td>[-0.05722301, -0.008378541, 0.029415343, -0.05...</td>\n",
       "      <td>[Other]</td>\n",
       "      <td>[Other]</td>\n",
       "      <td>[Other]</td>\n",
       "    </tr>\n",
       "    <tr>\n",
       "      <th>47</th>\n",
       "      <td>AB 325</td>\n",
       "      <td>Cartwright Act: violations.</td>\n",
       "      <td>Existing law establishes the Attorney General ...</td>\n",
       "      <td>[Other]</td>\n",
       "      <td>[]</td>\n",
       "      <td>[0.023806132, 0.046615083, 0.05170132, -0.0519...</td>\n",
       "      <td>[Other]</td>\n",
       "      <td>[Other]</td>\n",
       "      <td>[Other]</td>\n",
       "    </tr>\n",
       "    <tr>\n",
       "      <th>49</th>\n",
       "      <td>AB 1053</td>\n",
       "      <td>Educational technology: evaluation and selection.</td>\n",
       "      <td>Existing law states the intent of the Legislat...</td>\n",
       "      <td>[Other]</td>\n",
       "      <td>[]</td>\n",
       "      <td>[-0.016597452, 0.06518031, -0.017585557, -0.01...</td>\n",
       "      <td>[Education]</td>\n",
       "      <td>[Education]</td>\n",
       "      <td>[Education]</td>\n",
       "    </tr>\n",
       "    <tr>\n",
       "      <th>53</th>\n",
       "      <td>SB 690</td>\n",
       "      <td>Crimes: invasion of privacy.</td>\n",
       "      <td>(1) Existing law prohibits tapping a communica...</td>\n",
       "      <td>[Other]</td>\n",
       "      <td>[]</td>\n",
       "      <td>[-0.027538946, 0.028671386, -0.022293298, -0.0...</td>\n",
       "      <td>[Data, Surveillence, Privacy]</td>\n",
       "      <td>[Data, Surveillence, Privacy]</td>\n",
       "      <td>[Data, Surveillence, Privacy]</td>\n",
       "    </tr>\n",
       "    <tr>\n",
       "      <th>58</th>\n",
       "      <td>AB 279</td>\n",
       "      <td>School libraries: model library standards.</td>\n",
       "      <td>Existing law requires the State Board of Educa...</td>\n",
       "      <td>[Other]</td>\n",
       "      <td>[]</td>\n",
       "      <td>[-0.016555546, -0.043388978, -0.018790454, -0....</td>\n",
       "      <td>[Other]</td>\n",
       "      <td>[Other]</td>\n",
       "      <td>[Other]</td>\n",
       "    </tr>\n",
       "  </tbody>\n",
       "</table>\n",
       "</div>"
      ],
      "text/plain": [
       "   bill_number                                          bill_name  \\\n",
       "8       SB 390  Community facilities district: inclusion or an...   \n",
       "12      SB 259                           Fair Online Pricing Act.   \n",
       "18      AB 748  Commissioner of Financial Protection and Innov...   \n",
       "35     AB 1355                                  Location privacy.   \n",
       "36      AB 723  Real estate: digitally altered images: disclos...   \n",
       "40       SB 57                  Electrical corporations: tariffs.   \n",
       "42      SB 813         Multistakeholder regulatory organizations.   \n",
       "43     AB 1170                          Maintenance of the codes.   \n",
       "45      AB 398     Personal income tax: Earned Income Tax Credit.   \n",
       "47      AB 325                        Cartwright Act: violations.   \n",
       "49     AB 1053  Educational technology: evaluation and selection.   \n",
       "53      SB 690                       Crimes: invasion of privacy.   \n",
       "58      AB 279         School libraries: model library standards.   \n",
       "\n",
       "                                            bill_text bill_topic  \\\n",
       "8   Existing law, the Mello-Roos Community Facilit...    [Other]   \n",
       "12  The California Consumer Privacy Act of 2018 gr...    [Other]   \n",
       "18  The California Consumer Financial Protection L...    [Other]   \n",
       "35  (1) Existing law, the California Consumer Priv...    [Other]   \n",
       "36  Existing law, the Real Estate Law, provides fo...    [Other]   \n",
       "40  Existing law vests the Public Utilities Commis...    [Other]   \n",
       "42  Existing law requires, on or before September ...    [Other]   \n",
       "43  Existing law directs the Legislative Counsel t...    [Other]   \n",
       "45  The Personal Income Tax Law, in modified confo...    [Other]   \n",
       "47  Existing law establishes the Attorney General ...    [Other]   \n",
       "49  Existing law states the intent of the Legislat...    [Other]   \n",
       "53  (1) Existing law prohibits tapping a communica...    [Other]   \n",
       "58  Existing law requires the State Board of Educa...    [Other]   \n",
       "\n",
       "   keyword_matches                                     bill_embedding  \\\n",
       "8               []  [0.07138873, -0.013753141, 0.024923155, 0.0416...   \n",
       "12              []  [-0.05706851, -0.015436118, -0.0040004663, -0....   \n",
       "18              []  [-0.054191202, 0.054383375, -0.06914768, 0.018...   \n",
       "35              []  [0.03950727, -0.003047233, -0.011547702, -0.02...   \n",
       "36              []  [0.0020674537, 0.04273584, 0.0022380394, 0.010...   \n",
       "40              []  [-0.052643646, -0.012158349, 0.034072127, -0.0...   \n",
       "42              []  [0.04449629, -0.041931123, -0.015178479, -0.06...   \n",
       "43              []  [-0.07740823, 0.0068604485, 0.030221391, -0.02...   \n",
       "45              []  [-0.05722301, -0.008378541, 0.029415343, -0.05...   \n",
       "47              []  [0.023806132, 0.046615083, 0.05170132, -0.0519...   \n",
       "49              []  [-0.016597452, 0.06518031, -0.017585557, -0.01...   \n",
       "53              []  [-0.027538946, 0.028671386, -0.022293298, -0.0...   \n",
       "58              []  [-0.016555546, -0.043388978, -0.018790454, -0....   \n",
       "\n",
       "         keyword_first_prediction        cosine_first_prediction  \\\n",
       "8                         [Other]                        [Other]   \n",
       "12      [Collusion, Price Fixing]      [Collusion, Price Fixing]   \n",
       "18                        [Other]                        [Other]   \n",
       "35  [Data, Surveillence, Privacy]  [Data, Surveillence, Privacy]   \n",
       "36                        [Other]                        [Other]   \n",
       "40                        [Other]                        [Other]   \n",
       "42                        [Other]                        [Other]   \n",
       "43                        [Other]                        [Other]   \n",
       "45                        [Other]                        [Other]   \n",
       "47                        [Other]                        [Other]   \n",
       "49                    [Education]                    [Education]   \n",
       "53  [Data, Surveillence, Privacy]  [Data, Surveillence, Privacy]   \n",
       "58                        [Other]                        [Other]   \n",
       "\n",
       "           cosine_only_prediction  \n",
       "8                         [Other]  \n",
       "12      [Collusion, Price Fixing]  \n",
       "18                        [Other]  \n",
       "35  [Data, Surveillence, Privacy]  \n",
       "36                        [Other]  \n",
       "40                        [Other]  \n",
       "42                        [Other]  \n",
       "43                        [Other]  \n",
       "45                        [Other]  \n",
       "47                        [Other]  \n",
       "49                    [Education]  \n",
       "53  [Data, Surveillence, Privacy]  \n",
       "58                        [Other]  "
      ]
     },
     "execution_count": 13,
     "metadata": {},
     "output_type": "execute_result"
    }
   ],
   "source": [
    "# No overlap in predicted topics and the current 'gold' topic is not \"Other\"\n",
    "# df.loc[~df.topic_overlap.astype(bool) & df.bill_topic.apply(lambda x: x != [\"Other\"])]\n",
    "df.loc[~df.keyword_matches.astype(bool)]\n",
    "# df.loc[df.predicted_topics.apply(lambda x: \"Disinformation\" in x)]"
   ]
  },
  {
   "cell_type": "code",
   "execution_count": 14,
   "id": "3114ef3a-594b-4821-9cf9-c2c70fa8661d",
   "metadata": {},
   "outputs": [
    {
     "data": {
      "text/plain": [
       "9"
      ]
     },
     "execution_count": 14,
     "metadata": {},
     "output_type": "execute_result"
    }
   ],
   "source": [
    "# df.loc[~df.bill_topic.astype(bool), 'new_topics'].sum()\n",
    "# print(df.loc[df.predicted_topics.apply(len).idxmax(), 'predicted_topics'])\n",
    "# print(df.loc[df.predicted_topics.apply(len).idxmax(), 'bill_text'].replace(\"\\\\n\", \"\\n\"))\n",
    "len(df.loc[df.cosine_first_prediction.apply(lambda x: x == [\"Other\"])])"
   ]
  },
  {
   "cell_type": "code",
   "execution_count": 15,
   "id": "3b613e3b-7270-4497-89e2-841554d43420",
   "metadata": {},
   "outputs": [],
   "source": [
    "topic_df = df[['bill_topic', 'cosine_only_prediction', 'cosine_first_prediction', 'keyword_first_prediction']]\n",
    "topic_df = topic_df.rename(columns={\n",
    "    'bill_topic': 'keyword-only',\n",
    "    'cosine_only_prediction': 'cosine-only',\n",
    "    'cosine_first_prediction': 'cosine-first',\n",
    "    'keyword_first_prediction': 'keyword-first'\n",
    "})"
   ]
  },
  {
   "cell_type": "code",
   "execution_count": 16,
   "id": "fc30cc2c-aaf2-46be-a7b6-803a5df7266f",
   "metadata": {},
   "outputs": [],
   "source": [
    "from collections import defaultdict"
   ]
  },
  {
   "cell_type": "code",
   "execution_count": 17,
   "id": "fbfff821-8719-4ec2-8cd1-a4c760860747",
   "metadata": {},
   "outputs": [],
   "source": [
    "# Create binary matrix indicating topic presence per model per document\n",
    "all_topics = list(mini_embeddings.keys()) + [\"Other\"]\n",
    "\n",
    "# Initialize an empty list to store our transformed data\n",
    "binary_data = []\n",
    "\n",
    "# Loop through each document (row) in the original dataframe\n",
    "for idx, row in topic_df.iterrows():\n",
    "    doc_data = {}  # Store binary values for this document\n",
    "    \n",
    "    # For each model (column) in the dataframe\n",
    "    for model in topic_df.columns:\n",
    "        # For each possible topic\n",
    "        for topic in all_topics:\n",
    "            # Create a column name like \"Model1_AI\"\n",
    "            col_name = f\"{model}_{topic}\"\n",
    "            # Set to 1 if topic is present, 0 otherwise\n",
    "            doc_data[col_name] = 1 if topic in row[model] else 0\n",
    "    \n",
    "    # Add this document's data to our collection\n",
    "    binary_data.append(doc_data)\n",
    "\n",
    "# Convert to DataFrame\n",
    "binary_df = pd.DataFrame(binary_data)"
   ]
  },
  {
   "cell_type": "code",
   "execution_count": 18,
   "id": "fdc08286-c9d4-4d54-96dc-1319925832e2",
   "metadata": {},
   "outputs": [],
   "source": [
    "# Initialize a dictionary to store counts\n",
    "model_topic_counts = defaultdict(int)\n",
    "\n",
    "# Loop through each document\n",
    "for idx, row in topic_df.iterrows():\n",
    "    # For each model\n",
    "    for model in topic_df.columns:\n",
    "        # For each topic this model predicted for this document\n",
    "        for topic in row[model]:\n",
    "            # Increment the count for this model-topic pair\n",
    "            model_topic_counts[(model, topic)] += 1\n",
    "\n",
    "# Convert to a more readable dataframe\n",
    "count_df = pd.DataFrame(\n",
    "    [(model, topic, count) for (model, topic), count in model_topic_counts.items()],\n",
    "    columns=['Model', 'Topic', 'Count']\n",
    ")"
   ]
  },
  {
   "cell_type": "code",
   "execution_count": 19,
   "id": "e2f8de5d-a0e9-4f80-a846-6bd8613089d1",
   "metadata": {},
   "outputs": [],
   "source": [
    "from itertools import combinations\n",
    "\n",
    "model_cooccurrence = defaultdict(int)\n",
    "\n",
    "for idx, row in topic_df.iterrows():\n",
    "    # Get all pairs of models\n",
    "    for m1, m2 in combinations(topic_df.columns, 2):\n",
    "        # Find topics common to both models for this document\n",
    "        common_topics = set(row[m1]) & set(row[m2])\n",
    "        # Add the count of common topics\n",
    "        model_cooccurrence[(m1, m2)] += len(common_topics)\n",
    "\n",
    "# Convert to dataframe\n",
    "model_co_df = pd.DataFrame(\n",
    "    [(m1, m2, count) for (m1, m2), count in model_cooccurrence.items()],\n",
    "    columns=['Model1', 'Model2', 'Common_Predictions']\n",
    ")"
   ]
  },
  {
   "cell_type": "code",
   "execution_count": 20,
   "id": "f71fff27-c148-4891-8896-630dd8b96250",
   "metadata": {},
   "outputs": [],
   "source": [
    "topic_cooccurrence = defaultdict(int)\n",
    "\n",
    "for idx, row in topic_df.iterrows():\n",
    "    # Get all unique topics predicted for this document (across all models)\n",
    "    all_topics_in_doc = set()\n",
    "    for model in topic_df.columns:\n",
    "        all_topics_in_doc.update(row[model])\n",
    "    \n",
    "    # Count all pairs of topics in this document\n",
    "    for t1, t2 in combinations(all_topics_in_doc, 2):\n",
    "        # Sort to avoid duplicate pairs (A,B vs B,A)\n",
    "        pair = tuple(sorted((t1, t2)))\n",
    "        topic_cooccurrence[pair] += 1\n",
    "\n",
    "# Convert to dataframe\n",
    "topic_co_df = pd.DataFrame(\n",
    "    [(t1, t2, count) for (t1, t2), count in topic_cooccurrence.items()],\n",
    "    columns=['Topic1', 'Topic2', 'Co-occurrence']\n",
    ")"
   ]
  },
  {
   "cell_type": "code",
   "execution_count": 21,
   "id": "c56cc7e5-50cf-43ce-aa03-c5ef0d8faf51",
   "metadata": {},
   "outputs": [
    {
     "data": {
      "application/vnd.plotly.v1+json": {
       "config": {
        "plotlyServerURL": "https://plot.ly"
       },
       "data": [
        {
         "coloraxis": "coloraxis",
         "hovertemplate": "Topic: %{x}<br>Model: %{y}<br>Presence: %{z}<extra></extra>",
         "name": "0",
         "type": "heatmap",
         "x": [
          "AI",
          "Collusion, Price Fixing",
          "Data, Surveillence, Privacy",
          "Discrimination",
          "Disinformation",
          "Education",
          "Environment",
          "Government",
          "Health",
          "Housing",
          "Judicial System",
          "Kids",
          "Labor",
          "Other",
          "Safety"
         ],
         "xaxis": "x",
         "y": [
          "cosine-first",
          "cosine-only",
          "keyword-first",
          "keyword-only"
         ],
         "yaxis": "y",
         "z": {
          "bdata": "mqZpmqZp2j8QBEEQBEGwP57neZ7nec4/AAAAAAAAAAAYhmEYhmGoPxiGYRiGYag/AAAAAAAAAAAAAAAAAAAAABAEQRAEQbA/kiRJkiRJwj8AAAAAAAAAABAEQRAEQbA/EARBEARBwD+SJEmSJEnCPxAEQRAEQZA/URRFURRF0T8QBEEQBEGwP5qmaZqmaco/AAAAAAAAAAAYhmEYhmGoPxAEQRAEQZA/AAAAAAAAAAAAAAAAAAAAABAEQRAEQaA/kiRJkiRJwj8AAAAAAAAAAAAAAAAAAAAAEARBEARBsD8URVEURVHUPwAAAAAAAAAAmqZpmqZp2j8QBEEQBEGwP57neZ7nec4/AAAAAAAAAAAYhmEYhmGoPxiGYRiGYag/AAAAAAAAAAAAAAAAAAAAABAEQRAEQbA/kiRJkiRJwj8AAAAAAAAAABAEQRAEQbA/EARBEARBwD+SJEmSJEnCPxAEQRAEQZA/27Zt27Zt2z8AAAAAAAAAABzHcRzHcbw/AAAAAAAAAAAAAAAAAAAAABAEQRAEQaA/AAAAAAAAAAAAAAAAAAAAABAEQRAEQbA/EARBEARBwD8AAAAAAAAAABAEQRAEQbA/EARBEARBwD+apmmapmnKPxAEQRAEQZA/",
          "dtype": "f8",
          "shape": "4, 15"
         }
        }
       ],
       "layout": {
        "coloraxis": {
         "colorbar": {
          "title": {
           "text": "Presence"
          }
         },
         "colorscale": [
          [
           0,
           "#000004"
          ],
          [
           0.1111111111111111,
           "#180f3d"
          ],
          [
           0.2222222222222222,
           "#440f76"
          ],
          [
           0.3333333333333333,
           "#721f81"
          ],
          [
           0.4444444444444444,
           "#9e2f7f"
          ],
          [
           0.5555555555555556,
           "#cd4071"
          ],
          [
           0.6666666666666666,
           "#f1605d"
          ],
          [
           0.7777777777777778,
           "#fd9668"
          ],
          [
           0.8888888888888888,
           "#feca8d"
          ],
          [
           1,
           "#fcfdbf"
          ]
         ]
        },
        "template": {
         "data": {
          "candlestick": [
           {
            "decreasing": {
             "line": {
              "color": "#000033"
             }
            },
            "increasing": {
             "line": {
              "color": "#000032"
             }
            },
            "type": "candlestick"
           }
          ],
          "contour": [
           {
            "colorscale": [
             [
              0,
              "#000011"
             ],
             [
              0.1111111111111111,
              "#000012"
             ],
             [
              0.2222222222222222,
              "#000013"
             ],
             [
              0.3333333333333333,
              "#000014"
             ],
             [
              0.4444444444444444,
              "#000015"
             ],
             [
              0.5555555555555556,
              "#000016"
             ],
             [
              0.6666666666666666,
              "#000017"
             ],
             [
              0.7777777777777778,
              "#000018"
             ],
             [
              0.8888888888888888,
              "#000019"
             ],
             [
              1,
              "#000020"
             ]
            ],
            "type": "contour"
           }
          ],
          "contourcarpet": [
           {
            "colorscale": [
             [
              0,
              "#000011"
             ],
             [
              0.1111111111111111,
              "#000012"
             ],
             [
              0.2222222222222222,
              "#000013"
             ],
             [
              0.3333333333333333,
              "#000014"
             ],
             [
              0.4444444444444444,
              "#000015"
             ],
             [
              0.5555555555555556,
              "#000016"
             ],
             [
              0.6666666666666666,
              "#000017"
             ],
             [
              0.7777777777777778,
              "#000018"
             ],
             [
              0.8888888888888888,
              "#000019"
             ],
             [
              1,
              "#000020"
             ]
            ],
            "type": "contourcarpet"
           }
          ],
          "heatmap": [
           {
            "colorscale": [
             [
              0,
              "#000011"
             ],
             [
              0.1111111111111111,
              "#000012"
             ],
             [
              0.2222222222222222,
              "#000013"
             ],
             [
              0.3333333333333333,
              "#000014"
             ],
             [
              0.4444444444444444,
              "#000015"
             ],
             [
              0.5555555555555556,
              "#000016"
             ],
             [
              0.6666666666666666,
              "#000017"
             ],
             [
              0.7777777777777778,
              "#000018"
             ],
             [
              0.8888888888888888,
              "#000019"
             ],
             [
              1,
              "#000020"
             ]
            ],
            "type": "heatmap"
           }
          ],
          "histogram2d": [
           {
            "colorscale": [
             [
              0,
              "#000011"
             ],
             [
              0.1111111111111111,
              "#000012"
             ],
             [
              0.2222222222222222,
              "#000013"
             ],
             [
              0.3333333333333333,
              "#000014"
             ],
             [
              0.4444444444444444,
              "#000015"
             ],
             [
              0.5555555555555556,
              "#000016"
             ],
             [
              0.6666666666666666,
              "#000017"
             ],
             [
              0.7777777777777778,
              "#000018"
             ],
             [
              0.8888888888888888,
              "#000019"
             ],
             [
              1,
              "#000020"
             ]
            ],
            "type": "histogram2d"
           }
          ],
          "icicle": [
           {
            "textfont": {
             "color": "white"
            },
            "type": "icicle"
           }
          ],
          "sankey": [
           {
            "textfont": {
             "color": "#000036"
            },
            "type": "sankey"
           }
          ],
          "scatter": [
           {
            "marker": {
             "line": {
              "width": 0
             }
            },
            "type": "scatter"
           }
          ],
          "table": [
           {
            "cells": {
             "fill": {
              "color": "#000038"
             },
             "font": {
              "color": "#000037"
             },
             "line": {
              "color": "#000039"
             }
            },
            "header": {
             "fill": {
              "color": "#000040"
             },
             "font": {
              "color": "#000036"
             },
             "line": {
              "color": "#000039"
             }
            },
            "type": "table"
           }
          ],
          "waterfall": [
           {
            "connector": {
             "line": {
              "color": "#000036",
              "width": 2
             }
            },
            "decreasing": {
             "marker": {
              "color": "#000033"
             }
            },
            "increasing": {
             "marker": {
              "color": "#000032"
             }
            },
            "totals": {
             "marker": {
              "color": "#000034"
             }
            },
            "type": "waterfall"
           }
          ]
         },
         "layout": {
          "coloraxis": {
           "colorscale": [
            [
             0,
             "#000011"
            ],
            [
             0.1111111111111111,
             "#000012"
            ],
            [
             0.2222222222222222,
             "#000013"
            ],
            [
             0.3333333333333333,
             "#000014"
            ],
            [
             0.4444444444444444,
             "#000015"
            ],
            [
             0.5555555555555556,
             "#000016"
            ],
            [
             0.6666666666666666,
             "#000017"
            ],
            [
             0.7777777777777778,
             "#000018"
            ],
            [
             0.8888888888888888,
             "#000019"
            ],
            [
             1,
             "#000020"
            ]
           ]
          },
          "colorscale": {
           "diverging": [
            [
             0,
             "#000021"
            ],
            [
             0.1,
             "#000022"
            ],
            [
             0.2,
             "#000023"
            ],
            [
             0.3,
             "#000024"
            ],
            [
             0.4,
             "#000025"
            ],
            [
             0.5,
             "#000026"
            ],
            [
             0.6,
             "#000027"
            ],
            [
             0.7,
             "#000028"
            ],
            [
             0.8,
             "#000029"
            ],
            [
             0.9,
             "#000030"
            ],
            [
             1,
             "#000031"
            ]
           ],
           "sequential": [
            [
             0,
             "#000011"
            ],
            [
             0.1111111111111111,
             "#000012"
            ],
            [
             0.2222222222222222,
             "#000013"
            ],
            [
             0.3333333333333333,
             "#000014"
            ],
            [
             0.4444444444444444,
             "#000015"
            ],
            [
             0.5555555555555556,
             "#000016"
            ],
            [
             0.6666666666666666,
             "#000017"
            ],
            [
             0.7777777777777778,
             "#000018"
            ],
            [
             0.8888888888888888,
             "#000019"
            ],
            [
             1,
             "#000020"
            ]
           ],
           "sequentialminus": [
            [
             0,
             "#000011"
            ],
            [
             0.1111111111111111,
             "#000012"
            ],
            [
             0.2222222222222222,
             "#000013"
            ],
            [
             0.3333333333333333,
             "#000014"
            ],
            [
             0.4444444444444444,
             "#000015"
            ],
            [
             0.5555555555555556,
             "#000016"
            ],
            [
             0.6666666666666666,
             "#000017"
            ],
            [
             0.7777777777777778,
             "#000018"
            ],
            [
             0.8888888888888888,
             "#000019"
            ],
            [
             1,
             "#000020"
            ]
           ]
          },
          "colorway": [
           "#000001",
           "#000002",
           "#000003",
           "#000004",
           "#000005",
           "#000006",
           "#000007",
           "#000008",
           "#000009",
           "#000010"
          ]
         }
        },
        "title": {
         "text": "Topic Presence by Model (Proportion of Documents)"
        },
        "xaxis": {
         "anchor": "y",
         "constrain": "domain",
         "domain": [
          0,
          1
         ],
         "scaleanchor": "y",
         "tickangle": 45,
         "title": {
          "text": "Topic"
         }
        },
        "yaxis": {
         "anchor": "x",
         "autorange": "reversed",
         "constrain": "domain",
         "domain": [
          0,
          1
         ],
         "title": {
          "text": "Model"
         }
        }
       }
      },
      "image/png": "[encoded data removed]"
     },
     "metadata": {},
     "output_type": "display_data"
    }
   ],
   "source": [
    "import plotly.express as px\n",
    "\n",
    "# Aggregate the binary data by model and topic\n",
    "heatmap_data = binary_df.mean().reset_index()\n",
    "heatmap_data.columns = ['Model_Topic', 'Presence']\n",
    "heatmap_data[['Model', 'Topic']] = heatmap_data['Model_Topic'].str.split('_', expand=True)\n",
    "\n",
    "# Create pivot table for heatmap\n",
    "heatmap_pivot = heatmap_data.pivot(index='Model', columns='Topic', values='Presence')\n",
    "\n",
    "# Create heatmap\n",
    "fig = px.imshow(heatmap_pivot,\n",
    "                color_continuous_scale='Magma',\n",
    "                title='Topic Presence by Model (Proportion of Documents)',\n",
    "                labels=dict(x=\"Topic\", y=\"Model\", color=\"Presence\"))\n",
    "fig.update_layout(xaxis={'tickangle': 45})\n",
    "fig.show()"
   ]
  },
  {
   "cell_type": "code",
   "execution_count": 22,
   "id": "b3cdf17f-f6d2-4c1e-ad7f-54b1173dcf69",
   "metadata": {},
   "outputs": [],
   "source": [
    "color_discrete_map = {\n",
    "    'cosine-only': 'rgb(255,0,0)', \n",
    "    'keyword-only': 'rgb(0,255,0)', \n",
    "    'keyword-first': 'rgb(0,0,255)', \n",
    "    'cosine-first': 'rgb(0,0,0)'}"
   ]
  },
  {
   "cell_type": "code",
   "execution_count": 23,
   "id": "bdb8919f-8d1d-48a4-82d0-c4395b2e90e9",
   "metadata": {},
   "outputs": [
    {
     "data": {
      "application/vnd.plotly.v1+json": {
       "config": {
        "plotlyServerURL": "https://plot.ly"
       },
       "data": [
        {
         "alignmentgroup": "True",
         "hovertemplate": "Model=keyword-only<br>Topic=%{x}<br>Count=%{y}<extra></extra>",
         "legendgroup": "keyword-only",
         "marker": {
          "color": "rgb(0,255,0)",
          "pattern": {
           "shape": ""
          }
         },
         "name": "keyword-only",
         "offsetgroup": "keyword-only",
         "orientation": "v",
         "showlegend": true,
         "textposition": "auto",
         "type": "bar",
         "x": [
          "AI",
          "Other",
          "Labor",
          "Housing",
          "Data, Surveillence, Privacy"
         ],
         "xaxis": "x",
         "y": {
          "bdata": "Gw0ICAc=",
          "dtype": "i1"
         },
         "yaxis": "y"
        },
        {
         "alignmentgroup": "True",
         "hovertemplate": "Model=cosine-first<br>Topic=%{x}<br>Count=%{y}<extra></extra>",
         "legendgroup": "cosine-first",
         "marker": {
          "color": "rgb(0,0,0)",
          "pattern": {
           "shape": ""
          }
         },
         "name": "cosine-first",
         "offsetgroup": "cosine-first",
         "orientation": "v",
         "showlegend": true,
         "textposition": "auto",
         "type": "bar",
         "x": [
          "AI",
          "Data, Surveillence, Privacy",
          "Other",
          "Housing",
          "Labor"
         ],
         "xaxis": "x",
         "y": {
          "bdata": "Gg8JCQg=",
          "dtype": "i1"
         },
         "yaxis": "y"
        },
        {
         "alignmentgroup": "True",
         "hovertemplate": "Model=keyword-first<br>Topic=%{x}<br>Count=%{y}<extra></extra>",
         "legendgroup": "keyword-first",
         "marker": {
          "color": "rgb(0,0,255)",
          "pattern": {
           "shape": ""
          }
         },
         "name": "keyword-first",
         "offsetgroup": "keyword-first",
         "orientation": "v",
         "showlegend": true,
         "textposition": "auto",
         "type": "bar",
         "x": [
          "AI",
          "Data, Surveillence, Privacy",
          "Other",
          "Housing",
          "Labor",
          "Health"
         ],
         "xaxis": "x",
         "y": {
          "bdata": "Gg8JCQgE",
          "dtype": "i1"
         },
         "yaxis": "y"
        },
        {
         "alignmentgroup": "True",
         "hovertemplate": "Model=cosine-only<br>Topic=%{x}<br>Count=%{y}<extra></extra>",
         "legendgroup": "cosine-only",
         "marker": {
          "color": "rgb(255,0,0)",
          "pattern": {
           "shape": ""
          }
         },
         "name": "cosine-only",
         "offsetgroup": "cosine-only",
         "orientation": "v",
         "showlegend": true,
         "textposition": "auto",
         "type": "bar",
         "x": [
          "Other",
          "AI",
          "Data, Surveillence, Privacy",
          "Housing"
         ],
         "xaxis": "x",
         "y": {
          "bdata": "FBENCQ==",
          "dtype": "i1"
         },
         "yaxis": "y"
        }
       ],
       "layout": {
        "barmode": "group",
        "legend": {
         "title": {
          "text": "Model"
         },
         "tracegroupgap": 0
        },
        "template": {
         "data": {
          "candlestick": [
           {
            "decreasing": {
             "line": {
              "color": "#000033"
             }
            },
            "increasing": {
             "line": {
              "color": "#000032"
             }
            },
            "type": "candlestick"
           }
          ],
          "contour": [
           {
            "colorscale": [
             [
              0,
              "#000011"
             ],
             [
              0.1111111111111111,
              "#000012"
             ],
             [
              0.2222222222222222,
              "#000013"
             ],
             [
              0.3333333333333333,
              "#000014"
             ],
             [
              0.4444444444444444,
              "#000015"
             ],
             [
              0.5555555555555556,
              "#000016"
             ],
             [
              0.6666666666666666,
              "#000017"
             ],
             [
              0.7777777777777778,
              "#000018"
             ],
             [
              0.8888888888888888,
              "#000019"
             ],
             [
              1,
              "#000020"
             ]
            ],
            "type": "contour"
           }
          ],
          "contourcarpet": [
           {
            "colorscale": [
             [
              0,
              "#000011"
             ],
             [
              0.1111111111111111,
              "#000012"
             ],
             [
              0.2222222222222222,
              "#000013"
             ],
             [
              0.3333333333333333,
              "#000014"
             ],
             [
              0.4444444444444444,
              "#000015"
             ],
             [
              0.5555555555555556,
              "#000016"
             ],
             [
              0.6666666666666666,
              "#000017"
             ],
             [
              0.7777777777777778,
              "#000018"
             ],
             [
              0.8888888888888888,
              "#000019"
             ],
             [
              1,
              "#000020"
             ]
            ],
            "type": "contourcarpet"
           }
          ],
          "heatmap": [
           {
            "colorscale": [
             [
              0,
              "#000011"
             ],
             [
              0.1111111111111111,
              "#000012"
             ],
             [
              0.2222222222222222,
              "#000013"
             ],
             [
              0.3333333333333333,
              "#000014"
             ],
             [
              0.4444444444444444,
              "#000015"
             ],
             [
              0.5555555555555556,
              "#000016"
             ],
             [
              0.6666666666666666,
              "#000017"
             ],
             [
              0.7777777777777778,
              "#000018"
             ],
             [
              0.8888888888888888,
              "#000019"
             ],
             [
              1,
              "#000020"
             ]
            ],
            "type": "heatmap"
           }
          ],
          "histogram2d": [
           {
            "colorscale": [
             [
              0,
              "#000011"
             ],
             [
              0.1111111111111111,
              "#000012"
             ],
             [
              0.2222222222222222,
              "#000013"
             ],
             [
              0.3333333333333333,
              "#000014"
             ],
             [
              0.4444444444444444,
              "#000015"
             ],
             [
              0.5555555555555556,
              "#000016"
             ],
             [
              0.6666666666666666,
              "#000017"
             ],
             [
              0.7777777777777778,
              "#000018"
             ],
             [
              0.8888888888888888,
              "#000019"
             ],
             [
              1,
              "#000020"
             ]
            ],
            "type": "histogram2d"
           }
          ],
          "icicle": [
           {
            "textfont": {
             "color": "white"
            },
            "type": "icicle"
           }
          ],
          "sankey": [
           {
            "textfont": {
             "color": "#000036"
            },
            "type": "sankey"
           }
          ],
          "scatter": [
           {
            "marker": {
             "line": {
              "width": 0
             }
            },
            "type": "scatter"
           }
          ],
          "table": [
           {
            "cells": {
             "fill": {
              "color": "#000038"
             },
             "font": {
              "color": "#000037"
             },
             "line": {
              "color": "#000039"
             }
            },
            "header": {
             "fill": {
              "color": "#000040"
             },
             "font": {
              "color": "#000036"
             },
             "line": {
              "color": "#000039"
             }
            },
            "type": "table"
           }
          ],
          "waterfall": [
           {
            "connector": {
             "line": {
              "color": "#000036",
              "width": 2
             }
            },
            "decreasing": {
             "marker": {
              "color": "#000033"
             }
            },
            "increasing": {
             "marker": {
              "color": "#000032"
             }
            },
            "totals": {
             "marker": {
              "color": "#000034"
             }
            },
            "type": "waterfall"
           }
          ]
         },
         "layout": {
          "coloraxis": {
           "colorscale": [
            [
             0,
             "#000011"
            ],
            [
             0.1111111111111111,
             "#000012"
            ],
            [
             0.2222222222222222,
             "#000013"
            ],
            [
             0.3333333333333333,
             "#000014"
            ],
            [
             0.4444444444444444,
             "#000015"
            ],
            [
             0.5555555555555556,
             "#000016"
            ],
            [
             0.6666666666666666,
             "#000017"
            ],
            [
             0.7777777777777778,
             "#000018"
            ],
            [
             0.8888888888888888,
             "#000019"
            ],
            [
             1,
             "#000020"
            ]
           ]
          },
          "colorscale": {
           "diverging": [
            [
             0,
             "#000021"
            ],
            [
             0.1,
             "#000022"
            ],
            [
             0.2,
             "#000023"
            ],
            [
             0.3,
             "#000024"
            ],
            [
             0.4,
             "#000025"
            ],
            [
             0.5,
             "#000026"
            ],
            [
             0.6,
             "#000027"
            ],
            [
             0.7,
             "#000028"
            ],
            [
             0.8,
             "#000029"
            ],
            [
             0.9,
             "#000030"
            ],
            [
             1,
             "#000031"
            ]
           ],
           "sequential": [
            [
             0,
             "#000011"
            ],
            [
             0.1111111111111111,
             "#000012"
            ],
            [
             0.2222222222222222,
             "#000013"
            ],
            [
             0.3333333333333333,
             "#000014"
            ],
            [
             0.4444444444444444,
             "#000015"
            ],
            [
             0.5555555555555556,
             "#000016"
            ],
            [
             0.6666666666666666,
             "#000017"
            ],
            [
             0.7777777777777778,
             "#000018"
            ],
            [
             0.8888888888888888,
             "#000019"
            ],
            [
             1,
             "#000020"
            ]
           ],
           "sequentialminus": [
            [
             0,
             "#000011"
            ],
            [
             0.1111111111111111,
             "#000012"
            ],
            [
             0.2222222222222222,
             "#000013"
            ],
            [
             0.3333333333333333,
             "#000014"
            ],
            [
             0.4444444444444444,
             "#000015"
            ],
            [
             0.5555555555555556,
             "#000016"
            ],
            [
             0.6666666666666666,
             "#000017"
            ],
            [
             0.7777777777777778,
             "#000018"
            ],
            [
             0.8888888888888888,
             "#000019"
            ],
            [
             1,
             "#000020"
            ]
           ]
          },
          "colorway": [
           "#000001",
           "#000002",
           "#000003",
           "#000004",
           "#000005",
           "#000006",
           "#000007",
           "#000008",
           "#000009",
           "#000010"
          ]
         }
        },
        "title": {
         "text": "Top 20 Most Frequent Model-Topic Predictions"
        },
        "xaxis": {
         "anchor": "y",
         "categoryorder": "total descending",
         "domain": [
          0,
          1
         ],
         "title": {
          "text": "Topic"
         }
        },
        "yaxis": {
         "anchor": "x",
         "domain": [
          0,
          1
         ],
         "title": {
          "text": "Count"
         }
        }
       }
      },
      "image/png": "[encoded data removed]"
     },
     "metadata": {},
     "output_type": "display_data"
    }
   ],
   "source": [
    "# Sort and get top predictions\n",
    "top_predictions = count_df.sort_values('Count', ascending=False).head(20)\n",
    "\n",
    "# Create bar chart\n",
    "fig = px.bar(top_predictions,\n",
    "             x='Topic',\n",
    "             y='Count',\n",
    "             barmode='group',\n",
    "             color='Model',\n",
    "             color_discrete_map=color_discrete_map,\n",
    "             title='Top 20 Most Frequent Model-Topic Predictions')\n",
    "fig.update_layout(xaxis={'categoryorder': 'total descending'})\n",
    "fig.show()"
   ]
  },
  {
   "cell_type": "code",
   "execution_count": 24,
   "id": "76e42423-402d-4d52-bf9d-6be84f7f4c51",
   "metadata": {},
   "outputs": [],
   "source": [
    "topic_color_map = {\n",
    "    'Labor': 'rgb(255, 0, 0)',    # Red\n",
    "    'Housing': 'rgb(0, 255, 0)',    # Green\n",
    "    'AI': 'rgb(0, 0, 255)',    # Blue\n",
    "    'Discrimination': 'rgb(255, 255, 0)',  # Yellow\n",
    "    'Education': 'rgb(0, 255, 255)',  # Cyan\n",
    "    'Environment': 'rgb(255, 0, 255)',  # Magenta\n",
    "    'Health': 'rgb(128, 0, 0)',    # Dark Red\n",
    "    'Data, Surveillence, Privacy': 'rgb(0, 128, 0)',    # Dark Green\n",
    "    'Disinformation': 'rgb(0, 0, 128)',    # Dark Blue\n",
    "    'Judicial System': 'rgb(255, 165, 0)',  # Orange\n",
    "    'Safety': 'rgb(75, 0, 130)',   # Indigo\n",
    "    'Kids': 'rgb(238, 130, 238)',# Violet\n",
    "    'Government': 'rgb(255, 255, 255)',# White\n",
    "    'Collusion, Price Fixing': 'rgb(0, 0, 0)',      # Black\n",
    "    'Other': 'rgb(192, 192, 192)' # Silver\n",
    "}"
   ]
  },
  {
   "cell_type": "code",
   "execution_count": 25,
   "id": "15010369-0666-4341-b7e3-95cb664d5f3d",
   "metadata": {},
   "outputs": [
    {
     "data": {
      "application/vnd.plotly.v1+json": {
       "config": {
        "plotlyServerURL": "https://plot.ly"
       },
       "data": [
        {
         "hovertemplate": "Topic=Labor<br>Model=%{x}<br>Count=%{y}<extra></extra>",
         "legendgroup": "Labor",
         "marker": {
          "color": "rgb(255, 0, 0)",
          "pattern": {
           "shape": ""
          }
         },
         "name": "Labor",
         "orientation": "v",
         "showlegend": true,
         "textposition": "auto",
         "type": "bar",
         "x": [
          "keyword-only",
          "cosine-only",
          "cosine-first",
          "keyword-first"
         ],
         "xaxis": "x",
         "y": {
          "bdata": "CAQICA==",
          "dtype": "i1"
         },
         "yaxis": "y"
        },
        {
         "hovertemplate": "Topic=Housing<br>Model=%{x}<br>Count=%{y}<extra></extra>",
         "legendgroup": "Housing",
         "marker": {
          "color": "rgb(0, 255, 0)",
          "pattern": {
           "shape": ""
          }
         },
         "name": "Housing",
         "orientation": "v",
         "showlegend": true,
         "textposition": "auto",
         "type": "bar",
         "x": [
          "keyword-only",
          "cosine-only",
          "cosine-first",
          "keyword-first"
         ],
         "xaxis": "x",
         "y": {
          "bdata": "CAkJCQ==",
          "dtype": "i1"
         },
         "yaxis": "y"
        },
        {
         "hovertemplate": "Topic=AI<br>Model=%{x}<br>Count=%{y}<extra></extra>",
         "legendgroup": "AI",
         "marker": {
          "color": "rgb(0, 0, 255)",
          "pattern": {
           "shape": ""
          }
         },
         "name": "AI",
         "orientation": "v",
         "showlegend": true,
         "textposition": "auto",
         "type": "bar",
         "x": [
          "keyword-only",
          "cosine-only",
          "cosine-first",
          "keyword-first"
         ],
         "xaxis": "x",
         "y": {
          "bdata": "GxEaGg==",
          "dtype": "i1"
         },
         "yaxis": "y"
        },
        {
         "hovertemplate": "Topic=Discrimination<br>Model=%{x}<br>Count=%{y}<extra></extra>",
         "legendgroup": "Discrimination",
         "marker": {
          "color": "rgb(255, 255, 0)",
          "pattern": {
           "shape": ""
          }
         },
         "name": "Discrimination",
         "orientation": "v",
         "showlegend": true,
         "textposition": "auto",
         "type": "bar",
         "x": [
          "keyword-only",
          "cosine-only",
          "cosine-first",
          "keyword-first"
         ],
         "xaxis": "x",
         "y": {
          "bdata": "AAAAAA==",
          "dtype": "i1"
         },
         "yaxis": "y"
        },
        {
         "hovertemplate": "Topic=Education<br>Model=%{x}<br>Count=%{y}<extra></extra>",
         "legendgroup": "Education",
         "marker": {
          "color": "rgb(0, 255, 255)",
          "pattern": {
           "shape": ""
          }
         },
         "name": "Education",
         "orientation": "v",
         "showlegend": true,
         "textposition": "auto",
         "type": "bar",
         "x": [
          "keyword-only",
          "cosine-only",
          "cosine-first",
          "keyword-first"
         ],
         "xaxis": "x",
         "y": {
          "bdata": "AgEDAw==",
          "dtype": "i1"
         },
         "yaxis": "y"
        },
        {
         "hovertemplate": "Topic=Environment<br>Model=%{x}<br>Count=%{y}<extra></extra>",
         "legendgroup": "Environment",
         "marker": {
          "color": "rgb(255, 0, 255)",
          "pattern": {
           "shape": ""
          }
         },
         "name": "Environment",
         "orientation": "v",
         "showlegend": true,
         "textposition": "auto",
         "type": "bar",
         "x": [
          "keyword-only",
          "cosine-only",
          "cosine-first",
          "keyword-first"
         ],
         "xaxis": "x",
         "y": {
          "bdata": "AAAAAA==",
          "dtype": "i1"
         },
         "yaxis": "y"
        },
        {
         "hovertemplate": "Topic=Health<br>Model=%{x}<br>Count=%{y}<extra></extra>",
         "legendgroup": "Health",
         "marker": {
          "color": "rgb(128, 0, 0)",
          "pattern": {
           "shape": ""
          }
         },
         "name": "Health",
         "orientation": "v",
         "showlegend": true,
         "textposition": "auto",
         "type": "bar",
         "x": [
          "keyword-only",
          "cosine-only",
          "cosine-first",
          "keyword-first"
         ],
         "xaxis": "x",
         "y": {
          "bdata": "BAIEBA==",
          "dtype": "i1"
         },
         "yaxis": "y"
        },
        {
         "hovertemplate": "Topic=Data, Surveillence, Privacy<br>Model=%{x}<br>Count=%{y}<extra></extra>",
         "legendgroup": "Data, Surveillence, Privacy",
         "marker": {
          "color": "rgb(0, 128, 0)",
          "pattern": {
           "shape": ""
          }
         },
         "name": "Data, Surveillence, Privacy",
         "orientation": "v",
         "showlegend": true,
         "textposition": "auto",
         "type": "bar",
         "x": [
          "keyword-only",
          "cosine-only",
          "cosine-first",
          "keyword-first"
         ],
         "xaxis": "x",
         "y": {
          "bdata": "Bw0PDw==",
          "dtype": "i1"
         },
         "yaxis": "y"
        },
        {
         "hovertemplate": "Topic=Disinformation<br>Model=%{x}<br>Count=%{y}<extra></extra>",
         "legendgroup": "Disinformation",
         "marker": {
          "color": "rgb(0, 0, 128)",
          "pattern": {
           "shape": ""
          }
         },
         "name": "Disinformation",
         "orientation": "v",
         "showlegend": true,
         "textposition": "auto",
         "type": "bar",
         "x": [
          "keyword-only",
          "cosine-only",
          "cosine-first",
          "keyword-first"
         ],
         "xaxis": "x",
         "y": {
          "bdata": "AAMDAw==",
          "dtype": "i1"
         },
         "yaxis": "y"
        },
        {
         "hovertemplate": "Topic=Judicial System<br>Model=%{x}<br>Count=%{y}<extra></extra>",
         "legendgroup": "Judicial System",
         "marker": {
          "color": "rgb(255, 165, 0)",
          "pattern": {
           "shape": ""
          }
         },
         "name": "Judicial System",
         "orientation": "v",
         "showlegend": true,
         "textposition": "auto",
         "type": "bar",
         "x": [
          "keyword-only",
          "cosine-only",
          "cosine-first",
          "keyword-first"
         ],
         "xaxis": "x",
         "y": {
          "bdata": "AAAAAA==",
          "dtype": "i1"
         },
         "yaxis": "y"
        },
        {
         "hovertemplate": "Topic=Safety<br>Model=%{x}<br>Count=%{y}<extra></extra>",
         "legendgroup": "Safety",
         "marker": {
          "color": "rgb(75, 0, 130)",
          "pattern": {
           "shape": ""
          }
         },
         "name": "Safety",
         "orientation": "v",
         "showlegend": true,
         "textposition": "auto",
         "type": "bar",
         "x": [
          "keyword-only",
          "cosine-only",
          "cosine-first",
          "keyword-first"
         ],
         "xaxis": "x",
         "y": {
          "bdata": "AQABAQ==",
          "dtype": "i1"
         },
         "yaxis": "y"
        },
        {
         "hovertemplate": "Topic=Kids<br>Model=%{x}<br>Count=%{y}<extra></extra>",
         "legendgroup": "Kids",
         "marker": {
          "color": "rgb(238, 130, 238)",
          "pattern": {
           "shape": ""
          }
         },
         "name": "Kids",
         "orientation": "v",
         "showlegend": true,
         "textposition": "auto",
         "type": "bar",
         "x": [
          "keyword-only",
          "cosine-only",
          "cosine-first",
          "keyword-first"
         ],
         "xaxis": "x",
         "y": {
          "bdata": "BAAEBA==",
          "dtype": "i1"
         },
         "yaxis": "y"
        },
        {
         "hovertemplate": "Topic=Government<br>Model=%{x}<br>Count=%{y}<extra></extra>",
         "legendgroup": "Government",
         "marker": {
          "color": "rgb(255, 255, 255)",
          "pattern": {
           "shape": ""
          }
         },
         "name": "Government",
         "orientation": "v",
         "showlegend": true,
         "textposition": "auto",
         "type": "bar",
         "x": [
          "keyword-only",
          "cosine-only",
          "cosine-first",
          "keyword-first"
         ],
         "xaxis": "x",
         "y": {
          "bdata": "AAAAAA==",
          "dtype": "i1"
         },
         "yaxis": "y"
        },
        {
         "hovertemplate": "Topic=Collusion, Price Fixing<br>Model=%{x}<br>Count=%{y}<extra></extra>",
         "legendgroup": "Collusion, Price Fixing",
         "marker": {
          "color": "rgb(0, 0, 0)",
          "pattern": {
           "shape": ""
          }
         },
         "name": "Collusion, Price Fixing",
         "orientation": "v",
         "showlegend": true,
         "textposition": "auto",
         "type": "bar",
         "x": [
          "keyword-only",
          "cosine-only",
          "cosine-first",
          "keyword-first"
         ],
         "xaxis": "x",
         "y": {
          "bdata": "AAQEBA==",
          "dtype": "i1"
         },
         "yaxis": "y"
        },
        {
         "hovertemplate": "Topic=Other<br>Model=%{x}<br>Count=%{y}<extra></extra>",
         "legendgroup": "Other",
         "marker": {
          "color": "rgb(192, 192, 192)",
          "pattern": {
           "shape": ""
          }
         },
         "name": "Other",
         "orientation": "v",
         "showlegend": true,
         "textposition": "auto",
         "type": "bar",
         "x": [
          "keyword-only",
          "cosine-only",
          "cosine-first",
          "keyword-first"
         ],
         "xaxis": "x",
         "y": {
          "bdata": "DRQJCQ==",
          "dtype": "i1"
         },
         "yaxis": "y"
        }
       ],
       "layout": {
        "barmode": "stack",
        "height": 600,
        "legend": {
         "orientation": "h",
         "title": {
          "text": "Topics"
         },
         "tracegroupgap": 0,
         "x": 0.5,
         "xanchor": "center",
         "y": -0.5,
         "yanchor": "bottom"
        },
        "margin": {
         "b": 150,
         "l": 50,
         "pad": 4,
         "r": 50,
         "t": 50
        },
        "template": {
         "data": {
          "candlestick": [
           {
            "decreasing": {
             "line": {
              "color": "#000033"
             }
            },
            "increasing": {
             "line": {
              "color": "#000032"
             }
            },
            "type": "candlestick"
           }
          ],
          "contour": [
           {
            "colorscale": [
             [
              0,
              "#000011"
             ],
             [
              0.1111111111111111,
              "#000012"
             ],
             [
              0.2222222222222222,
              "#000013"
             ],
             [
              0.3333333333333333,
              "#000014"
             ],
             [
              0.4444444444444444,
              "#000015"
             ],
             [
              0.5555555555555556,
              "#000016"
             ],
             [
              0.6666666666666666,
              "#000017"
             ],
             [
              0.7777777777777778,
              "#000018"
             ],
             [
              0.8888888888888888,
              "#000019"
             ],
             [
              1,
              "#000020"
             ]
            ],
            "type": "contour"
           }
          ],
          "contourcarpet": [
           {
            "colorscale": [
             [
              0,
              "#000011"
             ],
             [
              0.1111111111111111,
              "#000012"
             ],
             [
              0.2222222222222222,
              "#000013"
             ],
             [
              0.3333333333333333,
              "#000014"
             ],
             [
              0.4444444444444444,
              "#000015"
             ],
             [
              0.5555555555555556,
              "#000016"
             ],
             [
              0.6666666666666666,
              "#000017"
             ],
             [
              0.7777777777777778,
              "#000018"
             ],
             [
              0.8888888888888888,
              "#000019"
             ],
             [
              1,
              "#000020"
             ]
            ],
            "type": "contourcarpet"
           }
          ],
          "heatmap": [
           {
            "colorscale": [
             [
              0,
              "#000011"
             ],
             [
              0.1111111111111111,
              "#000012"
             ],
             [
              0.2222222222222222,
              "#000013"
             ],
             [
              0.3333333333333333,
              "#000014"
             ],
             [
              0.4444444444444444,
              "#000015"
             ],
             [
              0.5555555555555556,
              "#000016"
             ],
             [
              0.6666666666666666,
              "#000017"
             ],
             [
              0.7777777777777778,
              "#000018"
             ],
             [
              0.8888888888888888,
              "#000019"
             ],
             [
              1,
              "#000020"
             ]
            ],
            "type": "heatmap"
           }
          ],
          "histogram2d": [
           {
            "colorscale": [
             [
              0,
              "#000011"
             ],
             [
              0.1111111111111111,
              "#000012"
             ],
             [
              0.2222222222222222,
              "#000013"
             ],
             [
              0.3333333333333333,
              "#000014"
             ],
             [
              0.4444444444444444,
              "#000015"
             ],
             [
              0.5555555555555556,
              "#000016"
             ],
             [
              0.6666666666666666,
              "#000017"
             ],
             [
              0.7777777777777778,
              "#000018"
             ],
             [
              0.8888888888888888,
              "#000019"
             ],
             [
              1,
              "#000020"
             ]
            ],
            "type": "histogram2d"
           }
          ],
          "icicle": [
           {
            "textfont": {
             "color": "white"
            },
            "type": "icicle"
           }
          ],
          "sankey": [
           {
            "textfont": {
             "color": "#000036"
            },
            "type": "sankey"
           }
          ],
          "scatter": [
           {
            "marker": {
             "line": {
              "width": 0
             }
            },
            "type": "scatter"
           }
          ],
          "table": [
           {
            "cells": {
             "fill": {
              "color": "#000038"
             },
             "font": {
              "color": "#000037"
             },
             "line": {
              "color": "#000039"
             }
            },
            "header": {
             "fill": {
              "color": "#000040"
             },
             "font": {
              "color": "#000036"
             },
             "line": {
              "color": "#000039"
             }
            },
            "type": "table"
           }
          ],
          "waterfall": [
           {
            "connector": {
             "line": {
              "color": "#000036",
              "width": 2
             }
            },
            "decreasing": {
             "marker": {
              "color": "#000033"
             }
            },
            "increasing": {
             "marker": {
              "color": "#000032"
             }
            },
            "totals": {
             "marker": {
              "color": "#000034"
             }
            },
            "type": "waterfall"
           }
          ]
         },
         "layout": {
          "coloraxis": {
           "colorscale": [
            [
             0,
             "#000011"
            ],
            [
             0.1111111111111111,
             "#000012"
            ],
            [
             0.2222222222222222,
             "#000013"
            ],
            [
             0.3333333333333333,
             "#000014"
            ],
            [
             0.4444444444444444,
             "#000015"
            ],
            [
             0.5555555555555556,
             "#000016"
            ],
            [
             0.6666666666666666,
             "#000017"
            ],
            [
             0.7777777777777778,
             "#000018"
            ],
            [
             0.8888888888888888,
             "#000019"
            ],
            [
             1,
             "#000020"
            ]
           ]
          },
          "colorscale": {
           "diverging": [
            [
             0,
             "#000021"
            ],
            [
             0.1,
             "#000022"
            ],
            [
             0.2,
             "#000023"
            ],
            [
             0.3,
             "#000024"
            ],
            [
             0.4,
             "#000025"
            ],
            [
             0.5,
             "#000026"
            ],
            [
             0.6,
             "#000027"
            ],
            [
             0.7,
             "#000028"
            ],
            [
             0.8,
             "#000029"
            ],
            [
             0.9,
             "#000030"
            ],
            [
             1,
             "#000031"
            ]
           ],
           "sequential": [
            [
             0,
             "#000011"
            ],
            [
             0.1111111111111111,
             "#000012"
            ],
            [
             0.2222222222222222,
             "#000013"
            ],
            [
             0.3333333333333333,
             "#000014"
            ],
            [
             0.4444444444444444,
             "#000015"
            ],
            [
             0.5555555555555556,
             "#000016"
            ],
            [
             0.6666666666666666,
             "#000017"
            ],
            [
             0.7777777777777778,
             "#000018"
            ],
            [
             0.8888888888888888,
             "#000019"
            ],
            [
             1,
             "#000020"
            ]
           ],
           "sequentialminus": [
            [
             0,
             "#000011"
            ],
            [
             0.1111111111111111,
             "#000012"
            ],
            [
             0.2222222222222222,
             "#000013"
            ],
            [
             0.3333333333333333,
             "#000014"
            ],
            [
             0.4444444444444444,
             "#000015"
            ],
            [
             0.5555555555555556,
             "#000016"
            ],
            [
             0.6666666666666666,
             "#000017"
            ],
            [
             0.7777777777777778,
             "#000018"
            ],
            [
             0.8888888888888888,
             "#000019"
            ],
            [
             1,
             "#000020"
            ]
           ]
          },
          "colorway": [
           "#000001",
           "#000002",
           "#000003",
           "#000004",
           "#000005",
           "#000006",
           "#000007",
           "#000008",
           "#000009",
           "#000010"
          ]
         }
        },
        "title": {
         "text": "Topic Distribution by Model"
        },
        "width": 1000,
        "xaxis": {
         "anchor": "y",
         "domain": [
          0,
          1
         ],
         "title": {
          "text": "Model"
         }
        },
        "yaxis": {
         "anchor": "x",
         "domain": [
          0,
          1
         ],
         "title": {
          "text": "Count"
         }
        }
       }
      },
      "image/png": "[encoded data removed]"
     },
     "metadata": {},
     "output_type": "display_data"
    }
   ],
   "source": [
    "# Prepare data for stacked bar chart\n",
    "stacked_data = []\n",
    "for model in topic_df.columns:\n",
    "    topic_counts = defaultdict(int)\n",
    "    for topics in topic_df[model]:\n",
    "        for topic in topics:\n",
    "            topic_counts[topic] += 1\n",
    "    for topic in all_topics:\n",
    "        stacked_data.append({\n",
    "            'Model': model,\n",
    "            'Topic': topic,\n",
    "            'Count': topic_counts.get(topic, 0)\n",
    "        })\n",
    "stacked_df = pd.DataFrame(stacked_data)\n",
    "\n",
    "# Create stacked bar chart\n",
    "fig = px.bar(stacked_df, \n",
    "             x='Model', \n",
    "             y='Count', \n",
    "             color='Topic',\n",
    "             color_discrete_map=topic_color_map,\n",
    "             title='Topic Distribution by Model',\n",
    "             barmode='stack')\n",
    "\n",
    "# Adjust layout to make room for legend\n",
    "fig.update_layout(\n",
    "    legend=dict(\n",
    "        orientation=\"h\",  # Horizontal legend\n",
    "        yanchor=\"bottom\",\n",
    "        y=-0.5,  # Position below x-axis\n",
    "        xanchor=\"center\",\n",
    "        x=0.5,\n",
    "        title_text='Topics'\n",
    "    ),\n",
    "    margin=dict(l=50, r=50, b=150, t=50, pad=4),  # Increase bottom margin\n",
    "    height=600,  # Increase figure height\n",
    "    width=1000   # Increase figure width\n",
    ")\n",
    "# Save with higher resolution\n",
    "fig.show()"
   ]
  },
  {
   "cell_type": "code",
   "execution_count": 25,
   "id": "e17bdd70-72ae-4047-897d-a356c3f1c6e1",
   "metadata": {},
   "outputs": [
    {
     "data": {
      "application/vnd.plotly.v1+json": {
       "config": {
        "plotlyServerURL": "https://plot.ly"
       },
       "data": [
        {
         "coloraxis": "coloraxis",
         "hovertemplate": "x: %{x}<br>y: %{y}<br>color: %{z}<extra></extra>",
         "name": "0",
         "texttemplate": "%{z:.2f}",
         "type": "heatmap",
         "x": [
          "keyword-only",
          "cosine-only",
          "cosine-first",
          "keyword-first"
         ],
         "xaxis": "x",
         "y": [
          "keyword-only",
          "cosine-only",
          "cosine-first",
          "keyword-first"
         ],
         "yaxis": "y",
         "z": {
          "bdata": "AAAAAAAA8D/MHTJ3yNzhP8dxHMdxHOc/x3Ecx3Ec5z/MHTJ3yNzhPwAAAAAAAPA/BawVsFbA6j8FrBWwVsDqP8dxHMdxHOc/BawVsFbA6j8AAAAAAADwPwAAAAAAAPA/x3Ecx3Ec5z8FrBWwVsDqPwAAAAAAAPA/AAAAAAAA8D8=",
          "dtype": "f8",
          "shape": "4, 4"
         }
        }
       ],
       "layout": {
        "coloraxis": {
         "colorscale": [
          [
           0,
           "rgb(247,251,255)"
          ],
          [
           0.125,
           "rgb(222,235,247)"
          ],
          [
           0.25,
           "rgb(198,219,239)"
          ],
          [
           0.375,
           "rgb(158,202,225)"
          ],
          [
           0.5,
           "rgb(107,174,214)"
          ],
          [
           0.625,
           "rgb(66,146,198)"
          ],
          [
           0.75,
           "rgb(33,113,181)"
          ],
          [
           0.875,
           "rgb(8,81,156)"
          ],
          [
           1,
           "rgb(8,48,107)"
          ]
         ]
        },
        "height": 500,
        "template": {
         "data": {
          "candlestick": [
           {
            "decreasing": {
             "line": {
              "color": "#000033"
             }
            },
            "increasing": {
             "line": {
              "color": "#000032"
             }
            },
            "type": "candlestick"
           }
          ],
          "contour": [
           {
            "colorscale": [
             [
              0,
              "#000011"
             ],
             [
              0.1111111111111111,
              "#000012"
             ],
             [
              0.2222222222222222,
              "#000013"
             ],
             [
              0.3333333333333333,
              "#000014"
             ],
             [
              0.4444444444444444,
              "#000015"
             ],
             [
              0.5555555555555556,
              "#000016"
             ],
             [
              0.6666666666666666,
              "#000017"
             ],
             [
              0.7777777777777778,
              "#000018"
             ],
             [
              0.8888888888888888,
              "#000019"
             ],
             [
              1,
              "#000020"
             ]
            ],
            "type": "contour"
           }
          ],
          "contourcarpet": [
           {
            "colorscale": [
             [
              0,
              "#000011"
             ],
             [
              0.1111111111111111,
              "#000012"
             ],
             [
              0.2222222222222222,
              "#000013"
             ],
             [
              0.3333333333333333,
              "#000014"
             ],
             [
              0.4444444444444444,
              "#000015"
             ],
             [
              0.5555555555555556,
              "#000016"
             ],
             [
              0.6666666666666666,
              "#000017"
             ],
             [
              0.7777777777777778,
              "#000018"
             ],
             [
              0.8888888888888888,
              "#000019"
             ],
             [
              1,
              "#000020"
             ]
            ],
            "type": "contourcarpet"
           }
          ],
          "heatmap": [
           {
            "colorscale": [
             [
              0,
              "#000011"
             ],
             [
              0.1111111111111111,
              "#000012"
             ],
             [
              0.2222222222222222,
              "#000013"
             ],
             [
              0.3333333333333333,
              "#000014"
             ],
             [
              0.4444444444444444,
              "#000015"
             ],
             [
              0.5555555555555556,
              "#000016"
             ],
             [
              0.6666666666666666,
              "#000017"
             ],
             [
              0.7777777777777778,
              "#000018"
             ],
             [
              0.8888888888888888,
              "#000019"
             ],
             [
              1,
              "#000020"
             ]
            ],
            "type": "heatmap"
           }
          ],
          "histogram2d": [
           {
            "colorscale": [
             [
              0,
              "#000011"
             ],
             [
              0.1111111111111111,
              "#000012"
             ],
             [
              0.2222222222222222,
              "#000013"
             ],
             [
              0.3333333333333333,
              "#000014"
             ],
             [
              0.4444444444444444,
              "#000015"
             ],
             [
              0.5555555555555556,
              "#000016"
             ],
             [
              0.6666666666666666,
              "#000017"
             ],
             [
              0.7777777777777778,
              "#000018"
             ],
             [
              0.8888888888888888,
              "#000019"
             ],
             [
              1,
              "#000020"
             ]
            ],
            "type": "histogram2d"
           }
          ],
          "icicle": [
           {
            "textfont": {
             "color": "white"
            },
            "type": "icicle"
           }
          ],
          "sankey": [
           {
            "textfont": {
             "color": "#000036"
            },
            "type": "sankey"
           }
          ],
          "scatter": [
           {
            "marker": {
             "line": {
              "width": 0
             }
            },
            "type": "scatter"
           }
          ],
          "table": [
           {
            "cells": {
             "fill": {
              "color": "#000038"
             },
             "font": {
              "color": "#000037"
             },
             "line": {
              "color": "#000039"
             }
            },
            "header": {
             "fill": {
              "color": "#000040"
             },
             "font": {
              "color": "#000036"
             },
             "line": {
              "color": "#000039"
             }
            },
            "type": "table"
           }
          ],
          "waterfall": [
           {
            "connector": {
             "line": {
              "color": "#000036",
              "width": 2
             }
            },
            "decreasing": {
             "marker": {
              "color": "#000033"
             }
            },
            "increasing": {
             "marker": {
              "color": "#000032"
             }
            },
            "totals": {
             "marker": {
              "color": "#000034"
             }
            },
            "type": "waterfall"
           }
          ]
         },
         "layout": {
          "coloraxis": {
           "colorscale": [
            [
             0,
             "#000011"
            ],
            [
             0.1111111111111111,
             "#000012"
            ],
            [
             0.2222222222222222,
             "#000013"
            ],
            [
             0.3333333333333333,
             "#000014"
            ],
            [
             0.4444444444444444,
             "#000015"
            ],
            [
             0.5555555555555556,
             "#000016"
            ],
            [
             0.6666666666666666,
             "#000017"
            ],
            [
             0.7777777777777778,
             "#000018"
            ],
            [
             0.8888888888888888,
             "#000019"
            ],
            [
             1,
             "#000020"
            ]
           ]
          },
          "colorscale": {
           "diverging": [
            [
             0,
             "#000021"
            ],
            [
             0.1,
             "#000022"
            ],
            [
             0.2,
             "#000023"
            ],
            [
             0.3,
             "#000024"
            ],
            [
             0.4,
             "#000025"
            ],
            [
             0.5,
             "#000026"
            ],
            [
             0.6,
             "#000027"
            ],
            [
             0.7,
             "#000028"
            ],
            [
             0.8,
             "#000029"
            ],
            [
             0.9,
             "#000030"
            ],
            [
             1,
             "#000031"
            ]
           ],
           "sequential": [
            [
             0,
             "#000011"
            ],
            [
             0.1111111111111111,
             "#000012"
            ],
            [
             0.2222222222222222,
             "#000013"
            ],
            [
             0.3333333333333333,
             "#000014"
            ],
            [
             0.4444444444444444,
             "#000015"
            ],
            [
             0.5555555555555556,
             "#000016"
            ],
            [
             0.6666666666666666,
             "#000017"
            ],
            [
             0.7777777777777778,
             "#000018"
            ],
            [
             0.8888888888888888,
             "#000019"
            ],
            [
             1,
             "#000020"
            ]
           ],
           "sequentialminus": [
            [
             0,
             "#000011"
            ],
            [
             0.1111111111111111,
             "#000012"
            ],
            [
             0.2222222222222222,
             "#000013"
            ],
            [
             0.3333333333333333,
             "#000014"
            ],
            [
             0.4444444444444444,
             "#000015"
            ],
            [
             0.5555555555555556,
             "#000016"
            ],
            [
             0.6666666666666666,
             "#000017"
            ],
            [
             0.7777777777777778,
             "#000018"
            ],
            [
             0.8888888888888888,
             "#000019"
            ],
            [
             1,
             "#000020"
            ]
           ]
          },
          "colorway": [
           "#000001",
           "#000002",
           "#000003",
           "#000004",
           "#000005",
           "#000006",
           "#000007",
           "#000008",
           "#000009",
           "#000010"
          ]
         }
        },
        "title": {
         "text": "Pairwise Model Similarity<br>(Jaccard Index)"
        },
        "width": 500,
        "xaxis": {
         "anchor": "y",
         "constrain": "domain",
         "domain": [
          0,
          1
         ],
         "scaleanchor": "y"
        },
        "yaxis": {
         "anchor": "x",
         "autorange": "reversed",
         "constrain": "domain",
         "domain": [
          0,
          1
         ]
        }
       }
      },
      "image/png": "[encoded data removed]"
     },
     "metadata": {},
     "output_type": "display_data"
    }
   ],
   "source": [
    "from sklearn.metrics import jaccard_score\n",
    "\n",
    "# Create a matrix showing % of overlapping predictions between each model pair\n",
    "overlap_matrix = pd.DataFrame(index=topic_df.columns, columns=topic_df.columns)\n",
    "\n",
    "for model1 in topic_df.columns:\n",
    "    for model2 in topic_df.columns:\n",
    "        # Calculate Jaccard similarity (intersection over union)\n",
    "        similarities = []\n",
    "        for idx, row in topic_df.iterrows():\n",
    "            set1 = set(row[model1])\n",
    "            set2 = set(row[model2])\n",
    "            if len(set1 | set2) > 0:  # Avoid division by zero\n",
    "                similarities.append(len(set1 & set2) / len(set1 | set2))\n",
    "        overlap_matrix.loc[model1, model2] = np.mean(similarities)\n",
    "\n",
    "# Visualize\n",
    "fig = px.imshow(overlap_matrix.astype(float),\n",
    "                x=overlap_matrix.columns,\n",
    "                y=overlap_matrix.index,\n",
    "                color_continuous_scale='Blues',\n",
    "                text_auto=\".2f\",\n",
    "                title=\"Pairwise Model Similarity<br>(Jaccard Index)\")\n",
    "fig.update_layout(width=500, height=500)\n",
    "fig.show()"
   ]
  }
 ],
 "metadata": {
  "kernelspec": {
   "display_name": "Python 3 (ipykernel)",
   "language": "python",
   "name": "python3"
  },
  "language_info": {
   "codemirror_mode": {
    "name": "ipython",
    "version": 3
   },
   "file_extension": ".py",
   "mimetype": "text/x-python",
   "name": "python",
   "nbconvert_exporter": "python",
   "pygments_lexer": "ipython3",
   "version": "3.10.0"
  }
 },
 "nbformat": 4,
 "nbformat_minor": 5
}
